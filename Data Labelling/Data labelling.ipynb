{
 "cells": [
  {
   "cell_type": "code",
   "execution_count": 149,
   "metadata": {
    "scrolled": true
   },
   "outputs": [],
   "source": [
    "import pandas as pd\n",
    "\n",
    "# get current labeled data\n",
    "df = pd.read_csv('labels.csv')"
   ]
  },
  {
   "cell_type": "code",
   "execution_count": 104,
   "metadata": {},
   "outputs": [],
   "source": [
    "import random\n",
    "\n",
    "# recursive function to generate a non-labeled row\n",
    "def generate_row(df):\n",
    "    n = random.randint(0, len(df))\n",
    "    row = df.loc[n, :]\n",
    "    if row.isna().sum() == 0:\n",
    "        return generate_row(df)\n",
    "    else:\n",
    "        return n"
   ]
  },
  {
   "cell_type": "code",
   "execution_count": 150,
   "metadata": {},
   "outputs": [
    {
     "name": "stdout",
     "output_type": "stream",
     "text": [
      "Labelling finished.\n",
      "Total labelled data: Text    71102\n",
      "F1          0\n",
      "F2          0\n",
      "F3          0\n",
      "F4          0\n",
      "dtype: int64\n"
     ]
    }
   ],
   "source": [
    "# import time\n",
    "from IPython.display import clear_output\n",
    "    \n",
    "# recursive function for labelling data\n",
    "def label():\n",
    "    \n",
    "    # recursive function to input values\n",
    "    def prompt(feature):\n",
    "        print(f'{feature}? Enter 1 if YES and 0 if NO')\n",
    "        ans = input()\n",
    "        if ans != '0' and ans != '1':\n",
    "            return prompt(feature)\n",
    "        else:\n",
    "            return int(ans)\n",
    "    \n",
    "    # clear existing output\n",
    "    clear_output(wait=True)\n",
    "    \n",
    "    # generate random segment of text\n",
    "    n = generate_row(df)\n",
    "    row = df.loc[n,:]\n",
    "\n",
    "    # print the segment of text for viewing\n",
    "    print(row['Text'])\n",
    "    print()\n",
    "    print('Enter 0 to skip this segment, and q to quit.')\n",
    "    time.sleep(0.2)\n",
    "    skip = input()\n",
    "\n",
    "    # option to skip a segment or quit the process\n",
    "    if skip == '0':\n",
    "        return label()\n",
    "    elif skip == 'q':\n",
    "        \n",
    "        # print summary info of total labels\n",
    "        clear_output(wait=True)\n",
    "        print('Labelling finished.')\n",
    "        print(f'Total labelled data: {len(df)-df.isna().sum()}')\n",
    "        return\n",
    "    else:\n",
    "        \n",
    "        # start labelling selected segment\n",
    "        for feature in row.index[1:]:\n",
    "            df.loc[n,feature] = prompt(feature)\n",
    "        print(df.loc[n,:])\n",
    "        print('Enter q to stop labelling')\n",
    "        time.sleep(0.1)\n",
    "        quit = input()\n",
    "        if quit == 'q':\n",
    "            \n",
    "            # print summary info of total labels\n",
    "            clear_output(wait=True)\n",
    "            print('Labelling finished.')\n",
    "            print(f'Total labelled data: {len(df)-df.isna().sum()}')\n",
    "            return\n",
    "        else:\n",
    "            return label()\n",
    "\n",
    "label()"
   ]
  },
  {
   "cell_type": "code",
   "execution_count": 76,
   "metadata": {
    "scrolled": true
   },
   "outputs": [
    {
     "data": {
      "text/plain": [
       "0        4\n",
       "1        4\n",
       "2        4\n",
       "3        4\n",
       "4        4\n",
       "        ..\n",
       "71097    4\n",
       "71098    4\n",
       "71099    4\n",
       "71100    4\n",
       "71101    4\n",
       "Length: 71102, dtype: int64"
      ]
     },
     "execution_count": 76,
     "metadata": {},
     "output_type": "execute_result"
    }
   ],
   "source": [
    "# export updated labels\n",
    "df.to_csv('labels.csv', index=False)"
   ]
  }
 ],
 "metadata": {
  "kernelspec": {
   "display_name": "Python 3",
   "language": "python",
   "name": "python3"
  },
  "language_info": {
   "codemirror_mode": {
    "name": "ipython",
    "version": 3
   },
   "file_extension": ".py",
   "mimetype": "text/x-python",
   "name": "python",
   "nbconvert_exporter": "python",
   "pygments_lexer": "ipython3",
   "version": "3.8.5"
  }
 },
 "nbformat": 4,
 "nbformat_minor": 4
}
