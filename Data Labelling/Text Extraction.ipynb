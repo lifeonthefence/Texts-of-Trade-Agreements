{
 "cells": [
  {
   "cell_type": "code",
   "execution_count": 12,
   "metadata": {},
   "outputs": [],
   "source": [
    "import numpy as np\n",
    "import pandas as pd\n",
    "\n",
    "# get cleaned trade agreement data\n",
    "data = pd.read_csv('../Data Preprocessing/fta_clean.csv')"
   ]
  },
  {
   "cell_type": "code",
   "execution_count": 34,
   "metadata": {},
   "outputs": [],
   "source": [
    "# split agreement into words\n",
    "split = df.apply(lambda r: r['Text'].split(' '), axis=1)\n",
    "\n",
    "# get segments containing 50 words each\n",
    "segments = [[' '.join(line[i:i+50]) for i in range(0, len(line), 50)] for line in split]\n",
    "\n",
    "# flatten all segments into one list\n",
    "flattened = [j for sub in segments for j in sub]"
   ]
  },
  {
   "cell_type": "code",
   "execution_count": 51,
   "metadata": {},
   "outputs": [],
   "source": [
    "# create dataframe for each segment\n",
    "df = pd.DataFrame()\n",
    "df['Text'] = flattened"
   ]
  },
  {
   "cell_type": "code",
   "execution_count": 56,
   "metadata": {},
   "outputs": [],
   "source": [
    "# chosen features to be input here\n",
    "FEATURES = ['Rules of Origin', 'Investment and Services', 'Disputes and Settlements']\n",
    "\n",
    "# create columns representing each feature\n",
    "df[FEATURES] = ''\n",
    "\n",
    "# export csv\n",
    "df.to_csv('labels.csv', index=False)"
   ]
  }
 ],
 "metadata": {
  "kernelspec": {
   "display_name": "Python 3",
   "language": "python",
   "name": "python3"
  },
  "language_info": {
   "codemirror_mode": {
    "name": "ipython",
    "version": 3
   },
   "file_extension": ".py",
   "mimetype": "text/x-python",
   "name": "python",
   "nbconvert_exporter": "python",
   "pygments_lexer": "ipython3",
   "version": "3.8.5"
  }
 },
 "nbformat": 4,
 "nbformat_minor": 4
}
