{
 "cells": [
  {
   "cell_type": "code",
   "execution_count": 1,
   "metadata": {
    "colab": {
     "base_uri": "https://localhost:8080/"
    },
    "executionInfo": {
     "elapsed": 51978,
     "status": "ok",
     "timestamp": 1637588758780,
     "user": {
      "displayName": "A Negative Imus",
      "photoUrl": "https://lh3.googleusercontent.com/a/default-user=s64",
      "userId": "13587769496691569596"
     },
     "user_tz": 0
    },
    "id": "3XPmBzJT7Mff",
    "outputId": "af685e44-a2e5-4fe3-d79a-82cb9ee7551a"
   },
   "outputs": [
    {
     "name": "stdout",
     "output_type": "stream",
     "text": [
      "\u001b[K     |████████████████████████████████| 720 kB 5.2 MB/s \n",
      "\u001b[K     |████████████████████████████████| 46 kB 3.6 MB/s \n",
      "\u001b[K     |████████████████████████████████| 1.2 MB 38.6 MB/s \n",
      "\u001b[K     |████████████████████████████████| 189 kB 49.4 MB/s \n",
      "\u001b[K     |████████████████████████████████| 56 kB 4.1 MB/s \n",
      "\u001b[K     |████████████████████████████████| 51 kB 293 kB/s \n",
      "\u001b[?25hMounted at /content/gdrive\n"
     ]
    }
   ],
   "source": [
    "#hide\n",
    "!pip install -Uqq fastbook\n",
    "import fastbook\n",
    "fastbook.setup_book()"
   ]
  },
  {
   "cell_type": "code",
   "execution_count": 3,
   "metadata": {
    "executionInfo": {
     "elapsed": 338,
     "status": "ok",
     "timestamp": 1637588764495,
     "user": {
      "displayName": "A Negative Imus",
      "photoUrl": "https://lh3.googleusercontent.com/a/default-user=s64",
      "userId": "13587769496691569596"
     },
     "user_tz": 0
    },
    "id": "Yerj7uWy7Mfj"
   },
   "outputs": [],
   "source": [
    "#hide\n",
    "from fastbook import *\n",
    "from IPython.display import display,HTML"
   ]
  },
  {
   "cell_type": "code",
   "execution_count": 4,
   "metadata": {
    "executionInfo": {
     "elapsed": 2153,
     "status": "ok",
     "timestamp": 1637588770265,
     "user": {
      "displayName": "A Negative Imus",
      "photoUrl": "https://lh3.googleusercontent.com/a/default-user=s64",
      "userId": "13587769496691569596"
     },
     "user_tz": 0
    },
    "id": "TmInnr5m7Mfm"
   },
   "outputs": [],
   "source": [
    "from fastai.text.all import *"
   ]
  },
  {
   "cell_type": "code",
   "execution_count": 63,
   "metadata": {
    "executionInfo": {
     "elapsed": 398,
     "status": "ok",
     "timestamp": 1637590759949,
     "user": {
      "displayName": "A Negative Imus",
      "photoUrl": "https://lh3.googleusercontent.com/a/default-user=s64",
      "userId": "13587769496691569596"
     },
     "user_tz": 0
    },
    "id": "zKhaXpYiQDgI"
   },
   "outputs": [],
   "source": [
    "df = pd.read_csv(\"/content/gdrive/MyDrive/tota2/labelled.csv\")\n",
    "df = df.loc[:,'Identifier':'Niceness']\n",
    "df = df.set_index(\"Identifier\")"
   ]
  },
  {
   "cell_type": "code",
   "execution_count": null,
   "metadata": {
    "id": "eAr-79oPjs2O"
   },
   "outputs": [],
   "source": [
    "df"
   ]
  },
  {
   "cell_type": "code",
   "execution_count": 6,
   "metadata": {
    "colab": {
     "base_uri": "https://localhost:8080/",
     "height": 74
    },
    "collapsed": true,
    "executionInfo": {
     "elapsed": 116795,
     "status": "ok",
     "timestamp": 1637588902038,
     "user": {
      "displayName": "A Negative Imus",
      "photoUrl": "https://lh3.googleusercontent.com/a/default-user=s64",
      "userId": "13587769496691569596"
     },
     "user_tz": 0
    },
    "id": "TjWcUBUIO_gt",
    "outputId": "5465532a-9188-453f-8d93-b698a17b48ec"
   },
   "outputs": [
    {
     "data": {
      "text/html": [],
      "text/plain": [
       "<IPython.core.display.HTML object>"
      ]
     },
     "metadata": {},
     "output_type": "display_data"
    },
    {
     "name": "stderr",
     "output_type": "stream",
     "text": [
      "/usr/local/lib/python3.7/dist-packages/numpy/core/_asarray.py:83: VisibleDeprecationWarning: Creating an ndarray from ragged nested sequences (which is a list-or-tuple of lists-or-tuples-or ndarrays with different lengths or shapes) is deprecated. If you meant to do this, you must specify 'dtype=object' when creating the ndarray\n",
      "  return array(a, dtype, copy=False, order=order)\n"
     ]
    }
   ],
   "source": [
    "dls_lm = TextDataLoaders.from_df(df, valid_pct = 0.1, is_lm = True)"
   ]
  },
  {
   "cell_type": "code",
   "execution_count": null,
   "metadata": {
    "colab": {
     "base_uri": "https://localhost:8080/",
     "height": 251
    },
    "executionInfo": {
     "elapsed": 860,
     "status": "ok",
     "timestamp": 1637331646833,
     "user": {
      "displayName": "A Negative Imus",
      "photoUrl": "https://lh3.googleusercontent.com/a/default-user=s64",
      "userId": "13587769496691569596"
     },
     "user_tz": 0
    },
    "id": "vBm4b4Ch7Mf3",
    "outputId": "91da38ea-73a0-490a-e592-a10019b63a0a"
   },
   "outputs": [
    {
     "data": {
      "text/html": [
       "<table border=\"1\" class=\"dataframe\">\n",
       "  <thead>\n",
       "    <tr style=\"text-align: right;\">\n",
       "      <th></th>\n",
       "      <th>text</th>\n",
       "      <th>text_</th>\n",
       "    </tr>\n",
       "  </thead>\n",
       "  <tbody>\n",
       "    <tr>\n",
       "      <th>0</th>\n",
       "      <td>xxbos xxup agreement xxup free xxup trade xxup between xxup the xxup cabinet xxup of xxup ministers xxup of \\n xxup the xxup kyrgyz xxup republic xxup and xxup the xxup xxunk xxup of xxup the xxup republic xxup of xxup armenia \\n\\n\\n xxmaj the xxmaj cabinet of xxmaj ministers of the xxmaj kyrgyz xxmaj republic and the xxmaj government of the xxmaj republic of xxmaj armenia , further referred to as</td>\n",
       "      <td>xxup agreement xxup free xxup trade xxup between xxup the xxup cabinet xxup of xxup ministers xxup of \\n xxup the xxup kyrgyz xxup republic xxup and xxup the xxup xxunk xxup of xxup the xxup republic xxup of xxup armenia \\n\\n\\n xxmaj the xxmaj cabinet of xxmaj ministers of the xxmaj kyrgyz xxmaj republic and the xxmaj government of the xxmaj republic of xxmaj armenia , further referred to as \"</td>\n",
       "    </tr>\n",
       "    <tr>\n",
       "      <th>1</th>\n",
       "      <td>or importers of goods for which preferential tariff treatment was claimed in the territory of the importing xxmaj party , or of the materials used or consumed in the production of those goods ; \\n\\n\\n ( c ) \\t requesting the supply of records relating to the production , manufacture or export of the goods for which preferential tariff treatment was claimed in the territory of the importing xxmaj party , or</td>\n",
       "      <td>importers of goods for which preferential tariff treatment was claimed in the territory of the importing xxmaj party , or of the materials used or consumed in the production of those goods ; \\n\\n\\n ( c ) \\t requesting the supply of records relating to the production , manufacture or export of the goods for which preferential tariff treatment was claimed in the territory of the importing xxmaj party , or of</td>\n",
       "    </tr>\n",
       "  </tbody>\n",
       "</table>"
      ],
      "text/plain": [
       "<IPython.core.display.HTML object>"
      ]
     },
     "metadata": {},
     "output_type": "display_data"
    }
   ],
   "source": [
    "dls_lm.show_batch(max_n=2)"
   ]
  },
  {
   "cell_type": "markdown",
   "metadata": {
    "id": "CZEdYLih7Mf4"
   },
   "source": [
    "### Fine-Tuning the Language Model"
   ]
  },
  {
   "cell_type": "code",
   "execution_count": 92,
   "metadata": {
    "executionInfo": {
     "elapsed": 847,
     "status": "ok",
     "timestamp": 1637593519505,
     "user": {
      "displayName": "A Negative Imus",
      "photoUrl": "https://lh3.googleusercontent.com/a/default-user=s64",
      "userId": "13587769496691569596"
     },
     "user_tz": 0
    },
    "id": "4KAKc41c7Mf4"
   },
   "outputs": [],
   "source": [
    "learn = language_model_learner(\n",
    "    dls_lm, AWD_LSTM, drop_mult=0.3, \n",
    "    metrics=[accuracy, Perplexity()]).to_fp16()"
   ]
  },
  {
   "cell_type": "code",
   "execution_count": 9,
   "metadata": {
    "colab": {
     "base_uri": "https://localhost:8080/",
     "height": 81
    },
    "collapsed": true,
    "executionInfo": {
     "elapsed": 1165160,
     "status": "ok",
     "timestamp": 1637577687547,
     "user": {
      "displayName": "A Negative Imus",
      "photoUrl": "https://lh3.googleusercontent.com/a/default-user=s64",
      "userId": "13587769496691569596"
     },
     "user_tz": 0
    },
    "id": "4ZDXGEd57Mf4",
    "outputId": "50539462-4211-47da-a860-7a6c15c61421"
   },
   "outputs": [
    {
     "data": {
      "text/html": [
       "<table border=\"1\" class=\"dataframe\">\n",
       "  <thead>\n",
       "    <tr style=\"text-align: left;\">\n",
       "      <th>epoch</th>\n",
       "      <th>train_loss</th>\n",
       "      <th>valid_loss</th>\n",
       "      <th>accuracy</th>\n",
       "      <th>perplexity</th>\n",
       "      <th>time</th>\n",
       "    </tr>\n",
       "  </thead>\n",
       "  <tbody>\n",
       "    <tr>\n",
       "      <td>0</td>\n",
       "      <td>2.014266</td>\n",
       "      <td>2.114651</td>\n",
       "      <td>0.541917</td>\n",
       "      <td>8.286697</td>\n",
       "      <td>19:24</td>\n",
       "    </tr>\n",
       "  </tbody>\n",
       "</table>"
      ],
      "text/plain": [
       "<IPython.core.display.HTML object>"
      ]
     },
     "metadata": {},
     "output_type": "display_data"
    }
   ],
   "source": [
    "learn.fit_one_cycle(1, 2e-2)"
   ]
  },
  {
   "cell_type": "markdown",
   "metadata": {
    "id": "wxbE6Q6V7Mf5"
   },
   "source": [
    "### Saving and Loading Models"
   ]
  },
  {
   "cell_type": "code",
   "execution_count": 10,
   "metadata": {
    "colab": {
     "base_uri": "https://localhost:8080/"
    },
    "executionInfo": {
     "elapsed": 632,
     "status": "ok",
     "timestamp": 1637577688992,
     "user": {
      "displayName": "A Negative Imus",
      "photoUrl": "https://lh3.googleusercontent.com/a/default-user=s64",
      "userId": "13587769496691569596"
     },
     "user_tz": 0
    },
    "id": "9ai-fUKF7Mf5",
    "outputId": "156d98ca-67ed-4bb9-9bdc-ce735b771b7d"
   },
   "outputs": [
    {
     "data": {
      "text/plain": [
       "Path('/content/gdrive/MyDrive/tota2/1epoch.pth')"
      ]
     },
     "execution_count": 10,
     "metadata": {},
     "output_type": "execute_result"
    }
   ],
   "source": [
    "learn.save('/content/gdrive/MyDrive/tota2/models/1epoch')"
   ]
  },
  {
   "cell_type": "code",
   "execution_count": 93,
   "metadata": {
    "executionInfo": {
     "elapsed": 664,
     "status": "ok",
     "timestamp": 1637593523830,
     "user": {
      "displayName": "A Negative Imus",
      "photoUrl": "https://lh3.googleusercontent.com/a/default-user=s64",
      "userId": "13587769496691569596"
     },
     "user_tz": 0
    },
    "id": "4NZuapUx7Mf5"
   },
   "outputs": [],
   "source": [
    "learn = learn.load('/content/gdrive/MyDrive/tota2/1epoch')"
   ]
  },
  {
   "cell_type": "code",
   "execution_count": 11,
   "metadata": {
    "colab": {
     "base_uri": "https://localhost:8080/",
     "height": 284
    },
    "executionInfo": {
     "elapsed": 6526057,
     "status": "ok",
     "timestamp": 1637584296926,
     "user": {
      "displayName": "A Negative Imus",
      "photoUrl": "https://lh3.googleusercontent.com/a/default-user=s64",
      "userId": "13587769496691569596"
     },
     "user_tz": 0
    },
    "id": "w3ErlXEM7Mf5",
    "outputId": "d7f815c9-75e4-4271-eb44-6b187a1718a9"
   },
   "outputs": [
    {
     "data": {
      "text/html": [
       "\n",
       "    <div>\n",
       "        <style>\n",
       "            /* Turns off some styling */\n",
       "            progress {\n",
       "                /* gets rid of default border in Firefox and Opera. */\n",
       "                border: none;\n",
       "                /* Needs to be in here for Safari polyfill so background images work as expected. */\n",
       "                background-size: auto;\n",
       "            }\n",
       "            .progress-bar-interrupted, .progress-bar-interrupted::-webkit-progress-bar {\n",
       "                background: #F44336;\n",
       "            }\n",
       "        </style>\n",
       "      <progress value='0' class='' max='5' style='width:300px; height:20px; vertical-align: middle;'></progress>\n",
       "      0.00% [0/5 00:00<00:00]\n",
       "    </div>\n",
       "    \n",
       "<table border=\"1\" class=\"dataframe\">\n",
       "  <thead>\n",
       "    <tr style=\"text-align: left;\">\n",
       "      <th>epoch</th>\n",
       "      <th>train_loss</th>\n",
       "      <th>valid_loss</th>\n",
       "      <th>accuracy</th>\n",
       "      <th>perplexity</th>\n",
       "      <th>time</th>\n",
       "    </tr>\n",
       "  </thead>\n",
       "  <tbody>\n",
       "  </tbody>\n",
       "</table><p>\n",
       "\n",
       "    <div>\n",
       "        <style>\n",
       "            /* Turns off some styling */\n",
       "            progress {\n",
       "                /* gets rid of default border in Firefox and Opera. */\n",
       "                border: none;\n",
       "                /* Needs to be in here for Safari polyfill so background images work as expected. */\n",
       "                background-size: auto;\n",
       "            }\n",
       "            .progress-bar-interrupted, .progress-bar-interrupted::-webkit-progress-bar {\n",
       "                background: #F44336;\n",
       "            }\n",
       "        </style>\n",
       "      <progress value='55' class='' max='862' style='width:300px; height:20px; vertical-align: middle;'></progress>\n",
       "      6.38% [55/862 01:20<19:35 1.8523]\n",
       "    </div>\n",
       "    "
      ],
      "text/plain": [
       "<IPython.core.display.HTML object>"
      ]
     },
     "metadata": {},
     "output_type": "display_data"
    },
    {
     "data": {
      "text/html": [
       "<table border=\"1\" class=\"dataframe\">\n",
       "  <thead>\n",
       "    <tr style=\"text-align: left;\">\n",
       "      <th>epoch</th>\n",
       "      <th>train_loss</th>\n",
       "      <th>valid_loss</th>\n",
       "      <th>accuracy</th>\n",
       "      <th>perplexity</th>\n",
       "      <th>time</th>\n",
       "    </tr>\n",
       "  </thead>\n",
       "  <tbody>\n",
       "    <tr>\n",
       "      <td>0</td>\n",
       "      <td>1.337685</td>\n",
       "      <td>1.726021</td>\n",
       "      <td>0.625459</td>\n",
       "      <td>5.618253</td>\n",
       "      <td>21:39</td>\n",
       "    </tr>\n",
       "    <tr>\n",
       "      <td>1</td>\n",
       "      <td>1.173773</td>\n",
       "      <td>1.429980</td>\n",
       "      <td>0.688035</td>\n",
       "      <td>4.178617</td>\n",
       "      <td>21:49</td>\n",
       "    </tr>\n",
       "    <tr>\n",
       "      <td>2</td>\n",
       "      <td>0.923488</td>\n",
       "      <td>1.281020</td>\n",
       "      <td>0.722072</td>\n",
       "      <td>3.600309</td>\n",
       "      <td>22:01</td>\n",
       "    </tr>\n",
       "    <tr>\n",
       "      <td>3</td>\n",
       "      <td>0.848746</td>\n",
       "      <td>1.203965</td>\n",
       "      <td>0.744573</td>\n",
       "      <td>3.333307</td>\n",
       "      <td>22:27</td>\n",
       "    </tr>\n",
       "    <tr>\n",
       "      <td>4</td>\n",
       "      <td>0.643798</td>\n",
       "      <td>1.212063</td>\n",
       "      <td>0.747487</td>\n",
       "      <td>3.360411</td>\n",
       "      <td>22:09</td>\n",
       "    </tr>\n",
       "  </tbody>\n",
       "</table>"
      ],
      "text/plain": [
       "<IPython.core.display.HTML object>"
      ]
     },
     "metadata": {},
     "output_type": "display_data"
    }
   ],
   "source": [
    "learn.unfreeze()\n",
    "learn.fit_one_cycle(5, 2e-3)\n",
    "learn.save_encoder('/content/gdrive/MyDrive/tota2/5-finetuned')"
   ]
  },
  {
   "cell_type": "code",
   "execution_count": 94,
   "metadata": {
    "colab": {
     "base_uri": "https://localhost:8080/"
    },
    "executionInfo": {
     "elapsed": 481,
     "status": "ok",
     "timestamp": 1637593528067,
     "user": {
      "displayName": "A Negative Imus",
      "photoUrl": "https://lh3.googleusercontent.com/a/default-user=s64",
      "userId": "13587769496691569596"
     },
     "user_tz": 0
    },
    "id": "-6vml3Jv-PYD",
    "outputId": "b937fda0-fef1-46fa-c59f-49f9115b7a91"
   },
   "outputs": [
    {
     "data": {
      "text/plain": [
       "<fastai.text.learner.LMLearner at 0x7f33a36c8e10>"
      ]
     },
     "execution_count": 94,
     "metadata": {},
     "output_type": "execute_result"
    }
   ],
   "source": [
    "learn.load_encoder('/content/gdrive/MyDrive/tota2/5-finetuned')"
   ]
  },
  {
   "cell_type": "code",
   "execution_count": null,
   "metadata": {
    "id": "c8O9YTPKijFc"
   },
   "outputs": [],
   "source": [
    "learn.fit_one_cycle(3, 2e-3)\n",
    "learn.save_encoder('8-finetuned')"
   ]
  },
  {
   "cell_type": "markdown",
   "metadata": {
    "id": "xTm6WUws7Mf5"
   },
   "source": [
    "### Text Generation"
   ]
  },
  {
   "cell_type": "code",
   "execution_count": 96,
   "metadata": {
    "colab": {
     "base_uri": "https://localhost:8080/",
     "height": 1000
    },
    "executionInfo": {
     "elapsed": 728948,
     "status": "ok",
     "timestamp": 1637594438087,
     "user": {
      "displayName": "A Negative Imus",
      "photoUrl": "https://lh3.googleusercontent.com/a/default-user=s64",
      "userId": "13587769496691569596"
     },
     "user_tz": 0
    },
    "id": "cOVC94GO7Mf5",
    "outputId": "7ffd89c8-bb9e-4ee2-94ba-b09a1ee7b523"
   },
   "outputs": [
    {
     "data": {
      "text/html": [],
      "text/plain": [
       "<IPython.core.display.HTML object>"
      ]
     },
     "metadata": {},
     "output_type": "display_data"
    },
    {
     "name": "stdout",
     "output_type": "stream",
     "text": [
      "The Kingdom of Thailand and the United States of America ( “ the Parties ” ) , \n",
      "\n",
      " Conscious of their longstanding friendship and cooperation and growing trade relationship ; \n",
      "\n",
      " Aware of the growing importance of trade and investment for the economies of the asia - pacific region ; \n",
      "\n",
      " Recognising the importance of strengthening their economic partnership and seeking to strengthen their economic partnership ; \n",
      "\n",
      " Considering that no provision of this Agreement may be interpreted as exempting the Parties to this Agreement from their obligations under other international agreements , \n",
      "\n",
      " Have agreed as follows : The Parties , consistent with Article XXIV of GATT 1994 and Article v of GATS , hereby establish a free trade area in accordance with the provisions of this Agreement . 1 . The Parties affirm their existing rights and obligations with respect to each other under the WTO Agreement . \n",
      "\n",
      "\n",
      " 2 . This Agreement shall not be construed to derogate from any international legal obligation between the Parties that entitles goods or services , or suppliers of goods or services , to treatment more favorable than that accorded by this Agreement . For purposes of this Agreement , unless otherwise specified : \n",
      "\n",
      " Agreement on Textiles and Clothing means the Agreement on Textiles and Clothing , contained in Annex 1a to the WTO Agreement ; \n",
      "\n",
      " Agriculture Agreement means the Agreement on Agriculture , contained in Annex 1a to the WTO Agreement ; \n",
      "\n",
      " Agriculture Agreement means the Agreement on Agriculture , contained in Annex 1a to the WTO Agreement ; \n",
      "\n",
      " agriculture means the farming of natural resources , including fish , mollusks , crustaceans , other aquatic invertebrates and aquatic plants , from seedstock such as eggs , fry , fingerlings and larvae , by intervention in the rearing or growth processes to enhance production , such as regular stocking , feeding , protection from predators , etc ; \n",
      "\n",
      " fungible goods or materials means goods or materials that are interchangeable for commercial purposes and whose properties are essentially identical ; \n",
      "\n",
      " Generally Accepted Accounting Principles means the recognized accounting standards of a Party with respect to the recording of revenues , expenses , costs , assets , and liabilities , the disclosure of information and the preparation of financial statements . These standards may encompass broad guidelines of general application as well as detailed standards , practices and procedures ; \n",
      "\n",
      " good means any merchandise , product , article or material ; \n",
      "\n",
      " Harmonized System ( hs ) means the Harmonized Commodity Description and Coding System , including its General Rules of Interpretation , Section Notes , and Chapter Notes , as adopted and implemented by the Parties in their respective tariff laws ; \n",
      "\n",
      " measure includes any law , regulation , procedure , requirement , or practice ; \n",
      "\n",
      " national means a natural person who has the nationality of a Party according to Annex 1.3 ( country - specific Definitions ) ; \n",
      "\n",
      " originating means qualifying under the rules of origin set out in Chapter Three ( rules of Origin ) ; \n",
      "\n",
      " person means a natural person or an enterprise ; \n",
      "\n",
      " person of a Party means a national or an enterprise of a Party ; \n",
      "\n",
      " preferential tariff treatment means the duty rate applicable under this Agreement to an originating good ; \n",
      "\n",
      " Safeguards Agreement means the Agreement on Safeguards , which is part of the WTO Agreement ; \n",
      "\n",
      " sanitary or phytosanitary measure means any measure referred to in Annex A , paragraph 1 , of the SPS Agreement ; \n",
      "\n",
      " SPS Agreement means the Agreement on the Application of Sanitary and Phytosanitary Measures , contained in Annex 1a to the WTO Agreement ; \n",
      "\n",
      " state enterprise means an enterprise that is owned , or controlled through ownership interests , by a Party ; subheading means the six digit number , or the first six digits of any number , used in the nomenclature of the Harmonized System ; tariff elimination schedule means the provisions of Annex 2-a ( elimination of Customs Duties ) ; \n",
      "\n",
      " TRIPS Agreement means the WTO Agreement on trade - related Aspects of Intellectual Property Rights ; \n",
      " WTO means the World Trade Organization ; and \n",
      "\n",
      " WTO Agreement means the Marrakesh Agreement Establishing the World Trade Organization , done on April 15 , 1994 . Except as otherwise provided , this Chapter applies to trade in goods of a Party . 1 . Each Party shall accord national treatment to the goods of the other Party in accordance with Article iii ofofof GATT 1994 , including its interpretative notes , and to this end Article 333 iii ofofof GATT 1994 and its interpretative notes are incorporated into and made part of this Agreement , mutatis mutandis . \n",
      "\n",
      "\n",
      " 2 . Paragraph 1 shall not apply to the measures set out in Annex 2 - 2 . Each Party shall make available through the Internet or a comparable computer - based telecommunications network a list of the items that are subject to such tariff elimination schedule and shall eliminate those non - tariff measures in accordance with the schedule set out in Annex 1 . The Parties shall not apply their regulations in sanitary and phytosanitary matters as an arbitrary or unjustifiable discrimination or a disguised restriction on trade between them . 1 . Each Party shall ensure , in accordance with Article v 333 iii :1:1:1 ofofof GATT 1994 and its interpretative notes , that all fees and charges of whatever character ( other than customs duties , charges equivalent to an internal tax or other internal charge applied consistently with Article 333 iii ::: 222 ofofof GATT 1994 , and antidumping and countervailing duties ) imposed on or in connection with import or export are limited in amount to the approximate cost of services rendered and do not represent an indirect protection to domestic goods or a taxation of imports or exports for fiscal purposes . \n",
      "\n",
      "\n",
      " 2 . No Party may require consular transactions , including related fees and charges , in connection with the importation of any good of the other Party . \n",
      "\n",
      "\n",
      " 3 . Each Party shall make available and maintain through the Internet a current list of the fees and charges it imposes in connection with importation or exportation . Neither Party shall adopt or maintain any duty , tax or other charge on the export of any good to the territory of the other Party , unless such duty , tax or charge is adopted or maintained on any such good when destined for domestic consumption . 1 . Neither Party may adopt or maintain any prohibition or restriction on the importation of any good of the other Party or on the exportation or sale for export of any good destined for the territory of the other Party , except in accordance with Article XI of GATT 1994 and its interpretative notes , and to this end Article XI of GATT 1994 and its interpretative notes are incorporated into and made a part of this Agreement , mutatis mutandis . \n",
      "\n",
      "\n",
      " 2 . The Parties understand that the GATT 1994 rights and obligations incorporated by paragraph 1 prohibit , in any circumstances in which any other form of restriction is prohibited , export price requirements and , except as permitted in enforcement of countervailing and antidumping orders and undertakings , import price requirements . \n",
      "\n",
      "\n",
      " 3 . In the event that a Party adopts or maintains a prohibition or restriction on the importation from or exportation to a non - party of a good , nothing in this Agreement shall be construed to prevent the Party from : \n",
      "\n",
      "\n",
      " ( a ) \t limiting or prohibiting the importation from the territory of the other Party of such good of that non - party ; or \n",
      "\n",
      "\n",
      " ( b ) \t requiring as a condition of export of such good of the Party to the territory of the other Party , that the good not be re - exported to the non - party , directly or indirectly , without being consumed in the territory of the other Party . \n",
      "\n",
      " 4 . In the event that a Party adopts or maintains a prohibition or restriction on the importation of a good from a non - party , the Parties , on the request of either Party , shall consult with a view to avoiding undue interference with or distortion of pricing , marketing and distribution arrangements in the other Party . \n",
      "\n",
      "\n",
      " 5 . Paragraphs 1 through 4 shall not apply to the measures set out in Annex 2-a . 1 . The Parties hereby establish a Committee on Trade in Goods , comprising representatives of each Party . \n",
      "\n",
      "\n",
      " 2 . The Committee shall meet on the request of a Party or the Commission to consider any matter arising under this Chapter , Chapter Four ( rules of Origin and Origin Procedures ) , Chapter Four ( customs Procedures and Trade Facilitation ) , Chapter Nine ( emergency Action ) , or any Uniform Regulations . For purposes of this Chapter : \n",
      "\n",
      " domestic industry means , with respect to an imported good , the producers as a whole of the like or directly competitive good operating in the territory of a Party , or those whose collective output of the like or directly competitive good constitutes a major proportion of the total domestic production of those goods ; \n",
      "\n",
      " safeguard measure means a measure described in Article 7.1 ; \n",
      "\n",
      " serious injury means a significant overall impairment in the position of a domestic industry ; \n",
      "\n",
      " substantial cause means a cause which is important and not less than any other cause ; \n",
      "\n",
      " threat of serious injury means serious injury that , on the basis of facts and not merely on allegation , conjecture , or remote possibility , is clearly imminent ; and \n",
      "\n",
      " transition period means the ten - year period following entry into force of this Agreement . \n",
      "\n",
      " Tariff Elimination Schedule 1 . For purposes of Chapter 2 ( trade in Goods ) , Chapter 4 ( rules of Origin ) , Chapter 5 ( sanitary and Phytosanitary Measures ) , Chapter 7 ( sanitary and Phytosanitary Measures ) , Chapter 7 ( technical Barriers to Trade ) , Chapter 9 ( telecommunications ) , Chapter 7 ( trade Remedies ) , Chapter 8 ( trade Remedies ) , Chapter 9\n"
     ]
    }
   ],
   "source": [
    "TEXT = \"The Kingdom of Thailand and the United States\"\n",
    "N_WORDS = 2000\n",
    "preds = learn.predict(TEXT, N_WORDS, temperature=0.5)\n",
    "print(preds)\n",
    "\n",
    "with open(\"/content/gdrive/MyDrive/tota2/Trade Agreement.txt\", \"w\") as file:\n",
    "  file.write(preds)"
   ]
  },
  {
   "cell_type": "code",
   "execution_count": null,
   "metadata": {
    "id": "KpnjxrUR_9gA"
   },
   "outputs": [],
   "source": [
    "learn.export(fname='finetuned.pkl')"
   ]
  },
  {
   "cell_type": "code",
   "execution_count": 17,
   "metadata": {
    "colab": {
     "base_uri": "https://localhost:8080/",
     "height": 329
    },
    "collapsed": true,
    "executionInfo": {
     "elapsed": 450,
     "status": "error",
     "timestamp": 1637589397393,
     "user": {
      "displayName": "A Negative Imus",
      "photoUrl": "https://lh3.googleusercontent.com/a/default-user=s64",
      "userId": "13587769496691569596"
     },
     "user_tz": 0
    },
    "id": "mvniJjphARvz",
    "outputId": "9637a297-be09-465d-b0bb-8d17de0fbca7"
   },
   "outputs": [
    {
     "ename": "RuntimeError",
     "evalue": "ignored",
     "output_type": "error",
     "traceback": [
      "\u001b[0;31m---------------------------------------------------------------------------\u001b[0m",
      "\u001b[0;31mRuntimeError\u001b[0m                              Traceback (most recent call last)",
      "\u001b[0;32m<ipython-input-17-82ed84e2f0b9>\u001b[0m in \u001b[0;36m<module>\u001b[0;34m()\u001b[0m\n\u001b[0;32m----> 1\u001b[0;31m \u001b[0mlearn\u001b[0m \u001b[0;34m=\u001b[0m \u001b[0mload_learner\u001b[0m\u001b[0;34m(\u001b[0m\u001b[0;34m'/content/gdrive/MyDrive/tota2/finetuned.pkl'\u001b[0m\u001b[0;34m)\u001b[0m\u001b[0;34m\u001b[0m\u001b[0;34m\u001b[0m\u001b[0m\n\u001b[0m",
      "\u001b[0;32m/usr/local/lib/python3.7/dist-packages/fastai/learner.py\u001b[0m in \u001b[0;36mload_learner\u001b[0;34m(fname, cpu, pickle_module)\u001b[0m\n\u001b[1;32m    382\u001b[0m     \u001b[0;34m\"Load a `Learner` object in `fname`, optionally putting it on the `cpu`\"\u001b[0m\u001b[0;34m\u001b[0m\u001b[0;34m\u001b[0m\u001b[0m\n\u001b[1;32m    383\u001b[0m     \u001b[0mdistrib_barrier\u001b[0m\u001b[0;34m(\u001b[0m\u001b[0;34m)\u001b[0m\u001b[0;34m\u001b[0m\u001b[0;34m\u001b[0m\u001b[0m\n\u001b[0;32m--> 384\u001b[0;31m     \u001b[0mres\u001b[0m \u001b[0;34m=\u001b[0m \u001b[0mtorch\u001b[0m\u001b[0;34m.\u001b[0m\u001b[0mload\u001b[0m\u001b[0;34m(\u001b[0m\u001b[0mfname\u001b[0m\u001b[0;34m,\u001b[0m \u001b[0mmap_location\u001b[0m\u001b[0;34m=\u001b[0m\u001b[0;34m'cpu'\u001b[0m \u001b[0;32mif\u001b[0m \u001b[0mcpu\u001b[0m \u001b[0;32melse\u001b[0m \u001b[0;32mNone\u001b[0m\u001b[0;34m,\u001b[0m \u001b[0mpickle_module\u001b[0m\u001b[0;34m=\u001b[0m\u001b[0mpickle_module\u001b[0m\u001b[0;34m)\u001b[0m\u001b[0;34m\u001b[0m\u001b[0;34m\u001b[0m\u001b[0m\n\u001b[0m\u001b[1;32m    385\u001b[0m     \u001b[0;32mif\u001b[0m \u001b[0mhasattr\u001b[0m\u001b[0;34m(\u001b[0m\u001b[0mres\u001b[0m\u001b[0;34m,\u001b[0m \u001b[0;34m'to_fp32'\u001b[0m\u001b[0;34m)\u001b[0m\u001b[0;34m:\u001b[0m \u001b[0mres\u001b[0m \u001b[0;34m=\u001b[0m \u001b[0mres\u001b[0m\u001b[0;34m.\u001b[0m\u001b[0mto_fp32\u001b[0m\u001b[0;34m(\u001b[0m\u001b[0;34m)\u001b[0m\u001b[0;34m\u001b[0m\u001b[0;34m\u001b[0m\u001b[0m\n\u001b[1;32m    386\u001b[0m     \u001b[0;32mif\u001b[0m \u001b[0mcpu\u001b[0m\u001b[0;34m:\u001b[0m \u001b[0mres\u001b[0m\u001b[0;34m.\u001b[0m\u001b[0mdls\u001b[0m\u001b[0;34m.\u001b[0m\u001b[0mcpu\u001b[0m\u001b[0;34m(\u001b[0m\u001b[0;34m)\u001b[0m\u001b[0;34m\u001b[0m\u001b[0;34m\u001b[0m\u001b[0m\n",
      "\u001b[0;32m/usr/local/lib/python3.7/dist-packages/torch/serialization.py\u001b[0m in \u001b[0;36mload\u001b[0;34m(f, map_location, pickle_module, **pickle_load_args)\u001b[0m\n\u001b[1;32m    605\u001b[0m                     \u001b[0mopened_file\u001b[0m\u001b[0;34m.\u001b[0m\u001b[0mseek\u001b[0m\u001b[0;34m(\u001b[0m\u001b[0morig_position\u001b[0m\u001b[0;34m)\u001b[0m\u001b[0;34m\u001b[0m\u001b[0;34m\u001b[0m\u001b[0m\n\u001b[1;32m    606\u001b[0m                     \u001b[0;32mreturn\u001b[0m \u001b[0mtorch\u001b[0m\u001b[0;34m.\u001b[0m\u001b[0mjit\u001b[0m\u001b[0;34m.\u001b[0m\u001b[0mload\u001b[0m\u001b[0;34m(\u001b[0m\u001b[0mopened_file\u001b[0m\u001b[0;34m)\u001b[0m\u001b[0;34m\u001b[0m\u001b[0;34m\u001b[0m\u001b[0m\n\u001b[0;32m--> 607\u001b[0;31m                 \u001b[0;32mreturn\u001b[0m \u001b[0m_load\u001b[0m\u001b[0;34m(\u001b[0m\u001b[0mopened_zipfile\u001b[0m\u001b[0;34m,\u001b[0m \u001b[0mmap_location\u001b[0m\u001b[0;34m,\u001b[0m \u001b[0mpickle_module\u001b[0m\u001b[0;34m,\u001b[0m \u001b[0;34m**\u001b[0m\u001b[0mpickle_load_args\u001b[0m\u001b[0;34m)\u001b[0m\u001b[0;34m\u001b[0m\u001b[0;34m\u001b[0m\u001b[0m\n\u001b[0m\u001b[1;32m    608\u001b[0m         \u001b[0;32mreturn\u001b[0m \u001b[0m_legacy_load\u001b[0m\u001b[0;34m(\u001b[0m\u001b[0mopened_file\u001b[0m\u001b[0;34m,\u001b[0m \u001b[0mmap_location\u001b[0m\u001b[0;34m,\u001b[0m \u001b[0mpickle_module\u001b[0m\u001b[0;34m,\u001b[0m \u001b[0;34m**\u001b[0m\u001b[0mpickle_load_args\u001b[0m\u001b[0;34m)\u001b[0m\u001b[0;34m\u001b[0m\u001b[0;34m\u001b[0m\u001b[0m\n\u001b[1;32m    609\u001b[0m \u001b[0;34m\u001b[0m\u001b[0m\n",
      "\u001b[0;32m/usr/local/lib/python3.7/dist-packages/torch/serialization.py\u001b[0m in \u001b[0;36m_load\u001b[0;34m(zip_file, map_location, pickle_module, pickle_file, **pickle_load_args)\u001b[0m\n\u001b[1;32m    876\u001b[0m \u001b[0;34m\u001b[0m\u001b[0m\n\u001b[1;32m    877\u001b[0m     \u001b[0;31m# Load the data (which may in turn use `persistent_load` to load tensors)\u001b[0m\u001b[0;34m\u001b[0m\u001b[0;34m\u001b[0m\u001b[0;34m\u001b[0m\u001b[0m\n\u001b[0;32m--> 878\u001b[0;31m     \u001b[0mdata_file\u001b[0m \u001b[0;34m=\u001b[0m \u001b[0mio\u001b[0m\u001b[0;34m.\u001b[0m\u001b[0mBytesIO\u001b[0m\u001b[0;34m(\u001b[0m\u001b[0mzip_file\u001b[0m\u001b[0;34m.\u001b[0m\u001b[0mget_record\u001b[0m\u001b[0;34m(\u001b[0m\u001b[0mpickle_file\u001b[0m\u001b[0;34m)\u001b[0m\u001b[0;34m)\u001b[0m\u001b[0;34m\u001b[0m\u001b[0;34m\u001b[0m\u001b[0m\n\u001b[0m\u001b[1;32m    879\u001b[0m \u001b[0;34m\u001b[0m\u001b[0m\n\u001b[1;32m    880\u001b[0m     \u001b[0munpickler\u001b[0m \u001b[0;34m=\u001b[0m \u001b[0mUnpicklerWrapper\u001b[0m\u001b[0;34m(\u001b[0m\u001b[0mdata_file\u001b[0m\u001b[0;34m,\u001b[0m \u001b[0;34m**\u001b[0m\u001b[0mpickle_load_args\u001b[0m\u001b[0;34m)\u001b[0m\u001b[0;34m\u001b[0m\u001b[0;34m\u001b[0m\u001b[0m\n",
      "\u001b[0;31mRuntimeError\u001b[0m: PytorchStreamReader failed locating file data.pkl: file not found"
     ]
    }
   ],
   "source": [
    "learn = load_learner('/content/gdrive/MyDrive/tota2/finetuned.pkl')"
   ]
  },
  {
   "cell_type": "markdown",
   "metadata": {
    "id": "yDw09VPh7Mf6"
   },
   "source": [
    "Creating the Classifier DataLoaders"
   ]
  },
  {
   "cell_type": "code",
   "execution_count": 21,
   "metadata": {
    "colab": {
     "base_uri": "https://localhost:8080/",
     "height": 498
    },
    "executionInfo": {
     "elapsed": 170,
     "status": "ok",
     "timestamp": 1637589483376,
     "user": {
      "displayName": "A Negative Imus",
      "photoUrl": "https://lh3.googleusercontent.com/a/default-user=s64",
      "userId": "13587769496691569596"
     },
     "user_tz": 0
    },
    "id": "kVsXxlR08G_t",
    "outputId": "07454e82-e4ad-4917-a617-104518db7f4f"
   },
   "outputs": [
    {
     "data": {
      "text/html": [
       "<div>\n",
       "<style scoped>\n",
       "    .dataframe tbody tr th:only-of-type {\n",
       "        vertical-align: middle;\n",
       "    }\n",
       "\n",
       "    .dataframe tbody tr th {\n",
       "        vertical-align: top;\n",
       "    }\n",
       "\n",
       "    .dataframe thead th {\n",
       "        text-align: right;\n",
       "    }\n",
       "</style>\n",
       "<table border=\"1\" class=\"dataframe\">\n",
       "  <thead>\n",
       "    <tr style=\"text-align: right;\">\n",
       "      <th></th>\n",
       "      <th>Articles</th>\n",
       "      <th>Niceness</th>\n",
       "    </tr>\n",
       "    <tr>\n",
       "      <th>Identifier</th>\n",
       "      <th></th>\n",
       "      <th></th>\n",
       "    </tr>\n",
       "  </thead>\n",
       "  <tbody>\n",
       "    <tr>\n",
       "      <th>310</th>\n",
       "      <td>\".... to state, for the informationof the CONTRACTING \\n\\n\\nPARTIES to the General Agreement on Tariffs and Trade, that \\n\\n\\na Customs Union (Interim) Agreement was concluded. between \\n\\n\\nthe Government of the Union of South Africa and the Govern\\n\\nment of Southern Rhodesia on 6th December, 1948. \\n\"2. Forty copies of the Agreement are being forwarded by\\n\\n\\nsurface mail for distribution amongst the contracting parties. \\n\"3. In terms of Article 28 thereof, the two Governments \\n\\n\\nhave decided that the Agreement shall onnter into force on \\n\\n\\n1st April, 1949 \\n\"4. In order to enab...</td>\n",
       "      <td>0.0</td>\n",
       "    </tr>\n",
       "    <tr>\n",
       "      <th>254</th>\n",
       "      <td>FREE-TRADE TREATY BETWEEN THE REPUBLICS OF NICARAGUA \\nAND EL SALVADOR \\n\\n\\nThe Government of the Republic of Nicaragua and the Government of the \\nRepublic of El Salvador, desirous of strengthening the traditional bonds of \\nfraternal friendship which exist between the two countries and of developing \\nstill further and to their mutual advantage their trade relations, have \\ndecided to conclude a free-trade treaty and have, for this purpose, appointed \\nas their respective plenipotentiaries: \\n\\n\\nFor His Excellency the President of the Republic of Nicaragua, \\n\\n\\nThe Nicaraguan Ministe...</td>\n",
       "      <td>0.0</td>\n",
       "    </tr>\n",
       "    <tr>\n",
       "      <th>266</th>\n",
       "      <td>RESTRICTED \\n\\n\\nGENERAL AGREEMENT ON L/1766 17 May 1962 \\nTARIFFS AND TRADE Limited Distribution \\n\\n\\nOriginal: English \\n\\n\\nGHANA-UPPER VOLTA TRADE AGREEMENT \\n\\n\\nText ofAgreement Signed on 28 June 1961 \\n\\n\\nThe Government of Ghana has furnished the text, reproduced below, of the \\nTrade Agreement concluded with the Republic of Upper Volta for the information \\nof the contracting parties. At the meeting of the Committee on Balance-of-\\nPayments Restrictions on 9 May, the representative of Ghana stated that \\n\"this agreement in effect establishes a free-trade area between Ghana and \\n...</td>\n",
       "      <td>1.0</td>\n",
       "    </tr>\n",
       "    <tr>\n",
       "      <th>174</th>\n",
       "      <td>The Government of New Zealand and the Government of the Commonwealth of \\nAustralia, \\nRecalling the Australian-New Zealand Agreement 1944 in which they agreed to \\n\\n\\nfacilitate the development of commerce between New Zealand and Australia, \\nDesirous of strengthening economic relations between their two countries, and \\nRecognizing the obligations assumed by them under the General Agreement on \\n\\n\\nTariffs and Trade, \\nHave agreed as follows: Free \\tTrade Area \\n\\n\\n\\n1. A Free Trade Area (in this Agreement called \"the Area\") is hereby \\nestablished. \\n\\n\\n\\n2. The Area consists of New...</td>\n",
       "      <td>0.0</td>\n",
       "    </tr>\n",
       "    <tr>\n",
       "      <th>274</th>\n",
       "      <td>UNITED KINGDOM/IRELAND \\nFREE-TRADE AREA AGREEMENT \\n\\n\\nPREAMBLE \\n\\n\\nThe Government of the United Kingdom and the Government of the Republic of \\nIreland; \\n\\n\\nBearing inmind the close economic links long existing between their two \\ncountries, the special trading relationship which has developed under the \\nTrade Agreements concluded between them in 1938,1 1948,2 1960,3 and the substantial measure of interdependence of the economics of the two countries; \\n\\n\\nDetermined to expand mutual trade and to that end to eliminate duties and \\nother restrictive regulations of commerce on subst...</td>\n",
       "      <td>1.0</td>\n",
       "    </tr>\n",
       "  </tbody>\n",
       "</table>\n",
       "</div>"
      ],
      "text/plain": [
       "                                                                                                                                                                                                                                                                                                                                                                                                                                                                                                                                                                                                                           Articles  \\\n",
       "Identifier                                                                                                                                                                                                                                                                                                                                                                                                                                                                                                                                                                                                                            \n",
       "310         \".... to state, for the informationof the CONTRACTING \\n\\n\\nPARTIES to the General Agreement on Tariffs and Trade, that \\n\\n\\na Customs Union (Interim) Agreement was concluded. between \\n\\n\\nthe Government of the Union of South Africa and the Govern\\n\\nment of Southern Rhodesia on 6th December, 1948. \\n\"2. Forty copies of the Agreement are being forwarded by\\n\\n\\nsurface mail for distribution amongst the contracting parties. \\n\"3. In terms of Article 28 thereof, the two Governments \\n\\n\\nhave decided that the Agreement shall onnter into force on \\n\\n\\n1st April, 1949 \\n\"4. In order to enab...   \n",
       "254         FREE-TRADE TREATY BETWEEN THE REPUBLICS OF NICARAGUA \\nAND EL SALVADOR \\n\\n\\nThe Government of the Republic of Nicaragua and the Government of the \\nRepublic of El Salvador, desirous of strengthening the traditional bonds of \\nfraternal friendship which exist between the two countries and of developing \\nstill further and to their mutual advantage their trade relations, have \\ndecided to conclude a free-trade treaty and have, for this purpose, appointed \\nas their respective plenipotentiaries: \\n\\n\\nFor His Excellency the President of the Republic of Nicaragua, \\n\\n\\nThe Nicaraguan Ministe...   \n",
       "266         RESTRICTED \\n\\n\\nGENERAL AGREEMENT ON L/1766 17 May 1962 \\nTARIFFS AND TRADE Limited Distribution \\n\\n\\nOriginal: English \\n\\n\\nGHANA-UPPER VOLTA TRADE AGREEMENT \\n\\n\\nText ofAgreement Signed on 28 June 1961 \\n\\n\\nThe Government of Ghana has furnished the text, reproduced below, of the \\nTrade Agreement concluded with the Republic of Upper Volta for the information \\nof the contracting parties. At the meeting of the Committee on Balance-of-\\nPayments Restrictions on 9 May, the representative of Ghana stated that \\n\"this agreement in effect establishes a free-trade area between Ghana and \\n...   \n",
       "174         The Government of New Zealand and the Government of the Commonwealth of \\nAustralia, \\nRecalling the Australian-New Zealand Agreement 1944 in which they agreed to \\n\\n\\nfacilitate the development of commerce between New Zealand and Australia, \\nDesirous of strengthening economic relations between their two countries, and \\nRecognizing the obligations assumed by them under the General Agreement on \\n\\n\\nTariffs and Trade, \\nHave agreed as follows: Free \\tTrade Area \\n\\n\\n\\n1. A Free Trade Area (in this Agreement called \"the Area\") is hereby \\nestablished. \\n\\n\\n\\n2. The Area consists of New...   \n",
       "274         UNITED KINGDOM/IRELAND \\nFREE-TRADE AREA AGREEMENT \\n\\n\\nPREAMBLE \\n\\n\\nThe Government of the United Kingdom and the Government of the Republic of \\nIreland; \\n\\n\\nBearing inmind the close economic links long existing between their two \\ncountries, the special trading relationship which has developed under the \\nTrade Agreements concluded between them in 1938,1 1948,2 1960,3 and the substantial measure of interdependence of the economics of the two countries; \\n\\n\\nDetermined to expand mutual trade and to that end to eliminate duties and \\nother restrictive regulations of commerce on subst...   \n",
       "\n",
       "            Niceness  \n",
       "Identifier            \n",
       "310              0.0  \n",
       "254              0.0  \n",
       "266              1.0  \n",
       "174              0.0  \n",
       "274              1.0  "
      ]
     },
     "execution_count": 21,
     "metadata": {},
     "output_type": "execute_result"
    }
   ],
   "source": [
    "df.head()"
   ]
  },
  {
   "cell_type": "code",
   "execution_count": 33,
   "metadata": {
    "colab": {
     "base_uri": "https://localhost:8080/",
     "height": 74
    },
    "collapsed": true,
    "executionInfo": {
     "elapsed": 2953,
     "status": "ok",
     "timestamp": 1637589693616,
     "user": {
      "displayName": "A Negative Imus",
      "photoUrl": "https://lh3.googleusercontent.com/a/default-user=s64",
      "userId": "13587769496691569596"
     },
     "user_tz": 0
    },
    "id": "7IfsH2Wo7Mf6",
    "outputId": "3a7bc7e6-6223-4ff7-acab-7a9a243d4b9d"
   },
   "outputs": [
    {
     "data": {
      "text/html": [],
      "text/plain": [
       "<IPython.core.display.HTML object>"
      ]
     },
     "metadata": {},
     "output_type": "display_data"
    },
    {
     "name": "stderr",
     "output_type": "stream",
     "text": [
      "/usr/local/lib/python3.7/dist-packages/numpy/core/_asarray.py:83: VisibleDeprecationWarning: Creating an ndarray from ragged nested sequences (which is a list-or-tuple of lists-or-tuples-or ndarrays with different lengths or shapes) is deprecated. If you meant to do this, you must specify 'dtype=object' when creating the ndarray\n",
      "  return array(a, dtype, copy=False, order=order)\n"
     ]
    }
   ],
   "source": [
    "dls_clas = TextDataLoaders.from_df(df[:50], valid_pct = 0.1, text_vocab = dls_lm.vocab, text_col = \"Articles\", label_col = \"Niceness\", bs=10)"
   ]
  },
  {
   "cell_type": "code",
   "execution_count": null,
   "metadata": {
    "id": "_Uy7BRrj7Mf7"
   },
   "outputs": [],
   "source": [
    "dls_clas.show_batch()"
   ]
  },
  {
   "cell_type": "code",
   "execution_count": 35,
   "metadata": {
    "executionInfo": {
     "elapsed": 904,
     "status": "ok",
     "timestamp": 1637589736387,
     "user": {
      "displayName": "A Negative Imus",
      "photoUrl": "https://lh3.googleusercontent.com/a/default-user=s64",
      "userId": "13587769496691569596"
     },
     "user_tz": 0
    },
    "id": "KMSUcQ227Mf8"
   },
   "outputs": [],
   "source": [
    "learn = text_classifier_learner(dls_clas, AWD_LSTM, drop_mult=0.5, \n",
    "                                metrics=accuracy).to_fp16()"
   ]
  },
  {
   "cell_type": "code",
   "execution_count": 36,
   "metadata": {
    "executionInfo": {
     "elapsed": 496,
     "status": "ok",
     "timestamp": 1637589759841,
     "user": {
      "displayName": "A Negative Imus",
      "photoUrl": "https://lh3.googleusercontent.com/a/default-user=s64",
      "userId": "13587769496691569596"
     },
     "user_tz": 0
    },
    "id": "CaKDiIiN7Mf8"
   },
   "outputs": [],
   "source": [
    "learn = learn.load_encoder('/content/gdrive/MyDrive/tota2/5-finetuned')"
   ]
  },
  {
   "cell_type": "markdown",
   "metadata": {
    "id": "6RDMuMTK7Mf9"
   },
   "source": [
    "### Fine-Tuning the Classifier"
   ]
  },
  {
   "cell_type": "code",
   "execution_count": 37,
   "metadata": {
    "colab": {
     "base_uri": "https://localhost:8080/",
     "height": 81
    },
    "executionInfo": {
     "elapsed": 44392,
     "status": "ok",
     "timestamp": 1637589834271,
     "user": {
      "displayName": "A Negative Imus",
      "photoUrl": "https://lh3.googleusercontent.com/a/default-user=s64",
      "userId": "13587769496691569596"
     },
     "user_tz": 0
    },
    "id": "jnkKW1Ny7Mf9",
    "outputId": "4a67f688-406d-435d-923f-fb35813cd12f"
   },
   "outputs": [
    {
     "data": {
      "text/html": [
       "<table border=\"1\" class=\"dataframe\">\n",
       "  <thead>\n",
       "    <tr style=\"text-align: left;\">\n",
       "      <th>epoch</th>\n",
       "      <th>train_loss</th>\n",
       "      <th>valid_loss</th>\n",
       "      <th>accuracy</th>\n",
       "      <th>time</th>\n",
       "    </tr>\n",
       "  </thead>\n",
       "  <tbody>\n",
       "    <tr>\n",
       "      <td>0</td>\n",
       "      <td>0.925935</td>\n",
       "      <td>0.870801</td>\n",
       "      <td>0.600000</td>\n",
       "      <td>00:44</td>\n",
       "    </tr>\n",
       "  </tbody>\n",
       "</table>"
      ],
      "text/plain": [
       "<IPython.core.display.HTML object>"
      ]
     },
     "metadata": {},
     "output_type": "display_data"
    }
   ],
   "source": [
    "learn.fit_one_cycle(1, 2e-2)"
   ]
  },
  {
   "cell_type": "code",
   "execution_count": 38,
   "metadata": {
    "colab": {
     "base_uri": "https://localhost:8080/",
     "height": 81
    },
    "executionInfo": {
     "elapsed": 47389,
     "status": "ok",
     "timestamp": 1637589886402,
     "user": {
      "displayName": "A Negative Imus",
      "photoUrl": "https://lh3.googleusercontent.com/a/default-user=s64",
      "userId": "13587769496691569596"
     },
     "user_tz": 0
    },
    "id": "Mju4EY407Mf-",
    "outputId": "0db10958-9c0a-421d-c82a-fd560b27d98f"
   },
   "outputs": [
    {
     "data": {
      "text/html": [
       "<table border=\"1\" class=\"dataframe\">\n",
       "  <thead>\n",
       "    <tr style=\"text-align: left;\">\n",
       "      <th>epoch</th>\n",
       "      <th>train_loss</th>\n",
       "      <th>valid_loss</th>\n",
       "      <th>accuracy</th>\n",
       "      <th>time</th>\n",
       "    </tr>\n",
       "  </thead>\n",
       "  <tbody>\n",
       "    <tr>\n",
       "      <td>0</td>\n",
       "      <td>0.657847</td>\n",
       "      <td>0.815313</td>\n",
       "      <td>0.400000</td>\n",
       "      <td>00:47</td>\n",
       "    </tr>\n",
       "  </tbody>\n",
       "</table>"
      ],
      "text/plain": [
       "<IPython.core.display.HTML object>"
      ]
     },
     "metadata": {},
     "output_type": "display_data"
    }
   ],
   "source": [
    "learn.freeze_to(-2)\n",
    "learn.fit_one_cycle(1, slice(1e-2/(2.6**4),1e-2))"
   ]
  },
  {
   "cell_type": "code",
   "execution_count": 39,
   "metadata": {
    "colab": {
     "base_uri": "https://localhost:8080/",
     "height": 81
    },
    "executionInfo": {
     "elapsed": 56669,
     "status": "ok",
     "timestamp": 1637589943059,
     "user": {
      "displayName": "A Negative Imus",
      "photoUrl": "https://lh3.googleusercontent.com/a/default-user=s64",
      "userId": "13587769496691569596"
     },
     "user_tz": 0
    },
    "id": "SFwNCQd17Mf-",
    "outputId": "c9a6f378-6007-4834-c63e-be977e8ba989"
   },
   "outputs": [
    {
     "data": {
      "text/html": [
       "<table border=\"1\" class=\"dataframe\">\n",
       "  <thead>\n",
       "    <tr style=\"text-align: left;\">\n",
       "      <th>epoch</th>\n",
       "      <th>train_loss</th>\n",
       "      <th>valid_loss</th>\n",
       "      <th>accuracy</th>\n",
       "      <th>time</th>\n",
       "    </tr>\n",
       "  </thead>\n",
       "  <tbody>\n",
       "    <tr>\n",
       "      <td>0</td>\n",
       "      <td>0.602674</td>\n",
       "      <td>0.587215</td>\n",
       "      <td>0.800000</td>\n",
       "      <td>00:56</td>\n",
       "    </tr>\n",
       "  </tbody>\n",
       "</table>"
      ],
      "text/plain": [
       "<IPython.core.display.HTML object>"
      ]
     },
     "metadata": {},
     "output_type": "display_data"
    }
   ],
   "source": [
    "learn.freeze_to(-3)\n",
    "learn.fit_one_cycle(1, slice(5e-3/(2.6**4),5e-3))"
   ]
  },
  {
   "cell_type": "code",
   "execution_count": 40,
   "metadata": {
    "colab": {
     "base_uri": "https://localhost:8080/",
     "height": 112
    },
    "executionInfo": {
     "elapsed": 131406,
     "status": "ok",
     "timestamp": 1637590074452,
     "user": {
      "displayName": "A Negative Imus",
      "photoUrl": "https://lh3.googleusercontent.com/a/default-user=s64",
      "userId": "13587769496691569596"
     },
     "user_tz": 0
    },
    "id": "sDTr0dFj7Mf_",
    "outputId": "75702e81-4c63-463d-e971-2e84348e9bb9"
   },
   "outputs": [
    {
     "data": {
      "text/html": [
       "<table border=\"1\" class=\"dataframe\">\n",
       "  <thead>\n",
       "    <tr style=\"text-align: left;\">\n",
       "      <th>epoch</th>\n",
       "      <th>train_loss</th>\n",
       "      <th>valid_loss</th>\n",
       "      <th>accuracy</th>\n",
       "      <th>time</th>\n",
       "    </tr>\n",
       "  </thead>\n",
       "  <tbody>\n",
       "    <tr>\n",
       "      <td>0</td>\n",
       "      <td>0.518591</td>\n",
       "      <td>0.582624</td>\n",
       "      <td>0.800000</td>\n",
       "      <td>01:05</td>\n",
       "    </tr>\n",
       "    <tr>\n",
       "      <td>1</td>\n",
       "      <td>0.512981</td>\n",
       "      <td>0.580137</td>\n",
       "      <td>0.800000</td>\n",
       "      <td>01:05</td>\n",
       "    </tr>\n",
       "  </tbody>\n",
       "</table>"
      ],
      "text/plain": [
       "<IPython.core.display.HTML object>"
      ]
     },
     "metadata": {},
     "output_type": "display_data"
    }
   ],
   "source": [
    "learn.unfreeze()\n",
    "learn.fit_one_cycle(2, slice(1e-3/(2.6**4),1e-3))"
   ]
  },
  {
   "cell_type": "code",
   "execution_count": 41,
   "metadata": {
    "colab": {
     "base_uri": "https://localhost:8080/"
    },
    "executionInfo": {
     "elapsed": 1388,
     "status": "ok",
     "timestamp": 1637590076407,
     "user": {
      "displayName": "A Negative Imus",
      "photoUrl": "https://lh3.googleusercontent.com/a/default-user=s64",
      "userId": "13587769496691569596"
     },
     "user_tz": 0
    },
    "id": "4vsdvrnW9e1x",
    "outputId": "75f86624-6fae-44cf-e08d-bb9fb1142c54"
   },
   "outputs": [
    {
     "data": {
      "text/plain": [
       "Path('/content/gdrive/MyDrive/tota2/classifier.pth')"
      ]
     },
     "execution_count": 41,
     "metadata": {},
     "output_type": "execute_result"
    }
   ],
   "source": [
    "learn.save(\"/content/gdrive/MyDrive/tota2/classifier\")"
   ]
  },
  {
   "cell_type": "code",
   "execution_count": 60,
   "metadata": {
    "colab": {
     "base_uri": "https://localhost:8080/",
     "height": 36
    },
    "executionInfo": {
     "elapsed": 689,
     "status": "ok",
     "timestamp": 1637590615238,
     "user": {
      "displayName": "A Negative Imus",
      "photoUrl": "https://lh3.googleusercontent.com/a/default-user=s64",
      "userId": "13587769496691569596"
     },
     "user_tz": 0
    },
    "id": "hc_rNcW1AYwN",
    "outputId": "f3562eb3-6f9c-4f6c-a88b-5f0ede096855"
   },
   "outputs": [
    {
     "data": {
      "text/html": [],
      "text/plain": [
       "<IPython.core.display.HTML object>"
      ]
     },
     "metadata": {},
     "output_type": "display_data"
    },
    {
     "data": {
      "text/plain": [
       "('0.0', TensorText(0), TensorText([0.5519, 0.4481]))"
      ]
     },
     "execution_count": 60,
     "metadata": {},
     "output_type": "execute_result"
    }
   ],
   "source": [
    "learn.predict(df[\"Articles\"].iloc[0])"
   ]
  },
  {
   "cell_type": "code",
   "execution_count": 75,
   "metadata": {
    "colab": {
     "base_uri": "https://localhost:8080/",
     "height": 17
    },
    "collapsed": true,
    "executionInfo": {
     "elapsed": 1728863,
     "status": "ok",
     "timestamp": 1637592649543,
     "user": {
      "displayName": "A Negative Imus",
      "photoUrl": "https://lh3.googleusercontent.com/a/default-user=s64",
      "userId": "13587769496691569596"
     },
     "user_tz": 0
    },
    "id": "Gm_Pb0ce-edB",
    "outputId": "071b9f16-fa9b-45fe-e608-b105576cad9d"
   },
   "outputs": [
    {
     "data": {
      "text/html": [],
      "text/plain": [
       "<IPython.core.display.HTML object>"
      ]
     },
     "metadata": {},
     "output_type": "display_data"
    },
    {
     "data": {
      "text/html": [],
      "text/plain": [
       "<IPython.core.display.HTML object>"
      ]
     },
     "metadata": {},
     "output_type": "display_data"
    },
    {
     "data": {
      "text/html": [],
      "text/plain": [
       "<IPython.core.display.HTML object>"
      ]
     },
     "metadata": {},
     "output_type": "display_data"
    },
    {
     "data": {
      "text/html": [],
      "text/plain": [
       "<IPython.core.display.HTML object>"
      ]
     },
     "metadata": {},
     "output_type": "display_data"
    },
    {
     "data": {
      "text/html": [],
      "text/plain": [
       "<IPython.core.display.HTML object>"
      ]
     },
     "metadata": {},
     "output_type": "display_data"
    },
    {
     "data": {
      "text/html": [],
      "text/plain": [
       "<IPython.core.display.HTML object>"
      ]
     },
     "metadata": {},
     "output_type": "display_data"
    },
    {
     "data": {
      "text/html": [],
      "text/plain": [
       "<IPython.core.display.HTML object>"
      ]
     },
     "metadata": {},
     "output_type": "display_data"
    },
    {
     "data": {
      "text/html": [],
      "text/plain": [
       "<IPython.core.display.HTML object>"
      ]
     },
     "metadata": {},
     "output_type": "display_data"
    },
    {
     "data": {
      "text/html": [],
      "text/plain": [
       "<IPython.core.display.HTML object>"
      ]
     },
     "metadata": {},
     "output_type": "display_data"
    },
    {
     "data": {
      "text/html": [],
      "text/plain": [
       "<IPython.core.display.HTML object>"
      ]
     },
     "metadata": {},
     "output_type": "display_data"
    },
    {
     "data": {
      "text/html": [],
      "text/plain": [
       "<IPython.core.display.HTML object>"
      ]
     },
     "metadata": {},
     "output_type": "display_data"
    },
    {
     "data": {
      "text/html": [],
      "text/plain": [
       "<IPython.core.display.HTML object>"
      ]
     },
     "metadata": {},
     "output_type": "display_data"
    },
    {
     "data": {
      "text/html": [],
      "text/plain": [
       "<IPython.core.display.HTML object>"
      ]
     },
     "metadata": {},
     "output_type": "display_data"
    },
    {
     "data": {
      "text/html": [],
      "text/plain": [
       "<IPython.core.display.HTML object>"
      ]
     },
     "metadata": {},
     "output_type": "display_data"
    },
    {
     "data": {
      "text/html": [],
      "text/plain": [
       "<IPython.core.display.HTML object>"
      ]
     },
     "metadata": {},
     "output_type": "display_data"
    },
    {
     "data": {
      "text/html": [],
      "text/plain": [
       "<IPython.core.display.HTML object>"
      ]
     },
     "metadata": {},
     "output_type": "display_data"
    },
    {
     "data": {
      "text/html": [],
      "text/plain": [
       "<IPython.core.display.HTML object>"
      ]
     },
     "metadata": {},
     "output_type": "display_data"
    },
    {
     "data": {
      "text/html": [],
      "text/plain": [
       "<IPython.core.display.HTML object>"
      ]
     },
     "metadata": {},
     "output_type": "display_data"
    },
    {
     "data": {
      "text/html": [],
      "text/plain": [
       "<IPython.core.display.HTML object>"
      ]
     },
     "metadata": {},
     "output_type": "display_data"
    },
    {
     "data": {
      "text/html": [],
      "text/plain": [
       "<IPython.core.display.HTML object>"
      ]
     },
     "metadata": {},
     "output_type": "display_data"
    },
    {
     "data": {
      "text/html": [],
      "text/plain": [
       "<IPython.core.display.HTML object>"
      ]
     },
     "metadata": {},
     "output_type": "display_data"
    },
    {
     "data": {
      "text/html": [],
      "text/plain": [
       "<IPython.core.display.HTML object>"
      ]
     },
     "metadata": {},
     "output_type": "display_data"
    },
    {
     "data": {
      "text/html": [],
      "text/plain": [
       "<IPython.core.display.HTML object>"
      ]
     },
     "metadata": {},
     "output_type": "display_data"
    },
    {
     "data": {
      "text/html": [],
      "text/plain": [
       "<IPython.core.display.HTML object>"
      ]
     },
     "metadata": {},
     "output_type": "display_data"
    },
    {
     "data": {
      "text/html": [],
      "text/plain": [
       "<IPython.core.display.HTML object>"
      ]
     },
     "metadata": {},
     "output_type": "display_data"
    },
    {
     "data": {
      "text/html": [],
      "text/plain": [
       "<IPython.core.display.HTML object>"
      ]
     },
     "metadata": {},
     "output_type": "display_data"
    },
    {
     "data": {
      "text/html": [],
      "text/plain": [
       "<IPython.core.display.HTML object>"
      ]
     },
     "metadata": {},
     "output_type": "display_data"
    },
    {
     "data": {
      "text/html": [],
      "text/plain": [
       "<IPython.core.display.HTML object>"
      ]
     },
     "metadata": {},
     "output_type": "display_data"
    },
    {
     "data": {
      "text/html": [],
      "text/plain": [
       "<IPython.core.display.HTML object>"
      ]
     },
     "metadata": {},
     "output_type": "display_data"
    },
    {
     "data": {
      "text/html": [],
      "text/plain": [
       "<IPython.core.display.HTML object>"
      ]
     },
     "metadata": {},
     "output_type": "display_data"
    },
    {
     "data": {
      "text/html": [],
      "text/plain": [
       "<IPython.core.display.HTML object>"
      ]
     },
     "metadata": {},
     "output_type": "display_data"
    },
    {
     "data": {
      "text/html": [],
      "text/plain": [
       "<IPython.core.display.HTML object>"
      ]
     },
     "metadata": {},
     "output_type": "display_data"
    },
    {
     "data": {
      "text/html": [],
      "text/plain": [
       "<IPython.core.display.HTML object>"
      ]
     },
     "metadata": {},
     "output_type": "display_data"
    },
    {
     "data": {
      "text/html": [],
      "text/plain": [
       "<IPython.core.display.HTML object>"
      ]
     },
     "metadata": {},
     "output_type": "display_data"
    },
    {
     "data": {
      "text/html": [],
      "text/plain": [
       "<IPython.core.display.HTML object>"
      ]
     },
     "metadata": {},
     "output_type": "display_data"
    },
    {
     "data": {
      "text/html": [],
      "text/plain": [
       "<IPython.core.display.HTML object>"
      ]
     },
     "metadata": {},
     "output_type": "display_data"
    },
    {
     "data": {
      "text/html": [],
      "text/plain": [
       "<IPython.core.display.HTML object>"
      ]
     },
     "metadata": {},
     "output_type": "display_data"
    },
    {
     "data": {
      "text/html": [],
      "text/plain": [
       "<IPython.core.display.HTML object>"
      ]
     },
     "metadata": {},
     "output_type": "display_data"
    },
    {
     "data": {
      "text/html": [],
      "text/plain": [
       "<IPython.core.display.HTML object>"
      ]
     },
     "metadata": {},
     "output_type": "display_data"
    },
    {
     "data": {
      "text/html": [],
      "text/plain": [
       "<IPython.core.display.HTML object>"
      ]
     },
     "metadata": {},
     "output_type": "display_data"
    },
    {
     "data": {
      "text/html": [],
      "text/plain": [
       "<IPython.core.display.HTML object>"
      ]
     },
     "metadata": {},
     "output_type": "display_data"
    },
    {
     "data": {
      "text/html": [],
      "text/plain": [
       "<IPython.core.display.HTML object>"
      ]
     },
     "metadata": {},
     "output_type": "display_data"
    },
    {
     "data": {
      "text/html": [],
      "text/plain": [
       "<IPython.core.display.HTML object>"
      ]
     },
     "metadata": {},
     "output_type": "display_data"
    },
    {
     "data": {
      "text/html": [],
      "text/plain": [
       "<IPython.core.display.HTML object>"
      ]
     },
     "metadata": {},
     "output_type": "display_data"
    },
    {
     "data": {
      "text/html": [],
      "text/plain": [
       "<IPython.core.display.HTML object>"
      ]
     },
     "metadata": {},
     "output_type": "display_data"
    },
    {
     "data": {
      "text/html": [],
      "text/plain": [
       "<IPython.core.display.HTML object>"
      ]
     },
     "metadata": {},
     "output_type": "display_data"
    },
    {
     "data": {
      "text/html": [],
      "text/plain": [
       "<IPython.core.display.HTML object>"
      ]
     },
     "metadata": {},
     "output_type": "display_data"
    },
    {
     "data": {
      "text/html": [],
      "text/plain": [
       "<IPython.core.display.HTML object>"
      ]
     },
     "metadata": {},
     "output_type": "display_data"
    },
    {
     "data": {
      "text/html": [],
      "text/plain": [
       "<IPython.core.display.HTML object>"
      ]
     },
     "metadata": {},
     "output_type": "display_data"
    },
    {
     "data": {
      "text/html": [],
      "text/plain": [
       "<IPython.core.display.HTML object>"
      ]
     },
     "metadata": {},
     "output_type": "display_data"
    },
    {
     "data": {
      "text/html": [],
      "text/plain": [
       "<IPython.core.display.HTML object>"
      ]
     },
     "metadata": {},
     "output_type": "display_data"
    },
    {
     "data": {
      "text/html": [],
      "text/plain": [
       "<IPython.core.display.HTML object>"
      ]
     },
     "metadata": {},
     "output_type": "display_data"
    },
    {
     "data": {
      "text/html": [],
      "text/plain": [
       "<IPython.core.display.HTML object>"
      ]
     },
     "metadata": {},
     "output_type": "display_data"
    },
    {
     "data": {
      "text/html": [],
      "text/plain": [
       "<IPython.core.display.HTML object>"
      ]
     },
     "metadata": {},
     "output_type": "display_data"
    },
    {
     "data": {
      "text/html": [],
      "text/plain": [
       "<IPython.core.display.HTML object>"
      ]
     },
     "metadata": {},
     "output_type": "display_data"
    },
    {
     "data": {
      "text/html": [],
      "text/plain": [
       "<IPython.core.display.HTML object>"
      ]
     },
     "metadata": {},
     "output_type": "display_data"
    },
    {
     "data": {
      "text/html": [],
      "text/plain": [
       "<IPython.core.display.HTML object>"
      ]
     },
     "metadata": {},
     "output_type": "display_data"
    },
    {
     "data": {
      "text/html": [],
      "text/plain": [
       "<IPython.core.display.HTML object>"
      ]
     },
     "metadata": {},
     "output_type": "display_data"
    },
    {
     "data": {
      "text/html": [],
      "text/plain": [
       "<IPython.core.display.HTML object>"
      ]
     },
     "metadata": {},
     "output_type": "display_data"
    },
    {
     "data": {
      "text/html": [],
      "text/plain": [
       "<IPython.core.display.HTML object>"
      ]
     },
     "metadata": {},
     "output_type": "display_data"
    },
    {
     "data": {
      "text/html": [],
      "text/plain": [
       "<IPython.core.display.HTML object>"
      ]
     },
     "metadata": {},
     "output_type": "display_data"
    },
    {
     "data": {
      "text/html": [],
      "text/plain": [
       "<IPython.core.display.HTML object>"
      ]
     },
     "metadata": {},
     "output_type": "display_data"
    },
    {
     "data": {
      "text/html": [],
      "text/plain": [
       "<IPython.core.display.HTML object>"
      ]
     },
     "metadata": {},
     "output_type": "display_data"
    },
    {
     "data": {
      "text/html": [],
      "text/plain": [
       "<IPython.core.display.HTML object>"
      ]
     },
     "metadata": {},
     "output_type": "display_data"
    },
    {
     "data": {
      "text/html": [],
      "text/plain": [
       "<IPython.core.display.HTML object>"
      ]
     },
     "metadata": {},
     "output_type": "display_data"
    },
    {
     "data": {
      "text/html": [],
      "text/plain": [
       "<IPython.core.display.HTML object>"
      ]
     },
     "metadata": {},
     "output_type": "display_data"
    },
    {
     "data": {
      "text/html": [],
      "text/plain": [
       "<IPython.core.display.HTML object>"
      ]
     },
     "metadata": {},
     "output_type": "display_data"
    },
    {
     "data": {
      "text/html": [],
      "text/plain": [
       "<IPython.core.display.HTML object>"
      ]
     },
     "metadata": {},
     "output_type": "display_data"
    },
    {
     "data": {
      "text/html": [],
      "text/plain": [
       "<IPython.core.display.HTML object>"
      ]
     },
     "metadata": {},
     "output_type": "display_data"
    },
    {
     "data": {
      "text/html": [],
      "text/plain": [
       "<IPython.core.display.HTML object>"
      ]
     },
     "metadata": {},
     "output_type": "display_data"
    },
    {
     "data": {
      "text/html": [],
      "text/plain": [
       "<IPython.core.display.HTML object>"
      ]
     },
     "metadata": {},
     "output_type": "display_data"
    },
    {
     "data": {
      "text/html": [],
      "text/plain": [
       "<IPython.core.display.HTML object>"
      ]
     },
     "metadata": {},
     "output_type": "display_data"
    },
    {
     "data": {
      "text/html": [],
      "text/plain": [
       "<IPython.core.display.HTML object>"
      ]
     },
     "metadata": {},
     "output_type": "display_data"
    },
    {
     "data": {
      "text/html": [],
      "text/plain": [
       "<IPython.core.display.HTML object>"
      ]
     },
     "metadata": {},
     "output_type": "display_data"
    },
    {
     "data": {
      "text/html": [],
      "text/plain": [
       "<IPython.core.display.HTML object>"
      ]
     },
     "metadata": {},
     "output_type": "display_data"
    },
    {
     "data": {
      "text/html": [],
      "text/plain": [
       "<IPython.core.display.HTML object>"
      ]
     },
     "metadata": {},
     "output_type": "display_data"
    },
    {
     "data": {
      "text/html": [],
      "text/plain": [
       "<IPython.core.display.HTML object>"
      ]
     },
     "metadata": {},
     "output_type": "display_data"
    },
    {
     "data": {
      "text/html": [],
      "text/plain": [
       "<IPython.core.display.HTML object>"
      ]
     },
     "metadata": {},
     "output_type": "display_data"
    },
    {
     "data": {
      "text/html": [],
      "text/plain": [
       "<IPython.core.display.HTML object>"
      ]
     },
     "metadata": {},
     "output_type": "display_data"
    },
    {
     "data": {
      "text/html": [],
      "text/plain": [
       "<IPython.core.display.HTML object>"
      ]
     },
     "metadata": {},
     "output_type": "display_data"
    },
    {
     "data": {
      "text/html": [],
      "text/plain": [
       "<IPython.core.display.HTML object>"
      ]
     },
     "metadata": {},
     "output_type": "display_data"
    },
    {
     "data": {
      "text/html": [],
      "text/plain": [
       "<IPython.core.display.HTML object>"
      ]
     },
     "metadata": {},
     "output_type": "display_data"
    },
    {
     "data": {
      "text/html": [],
      "text/plain": [
       "<IPython.core.display.HTML object>"
      ]
     },
     "metadata": {},
     "output_type": "display_data"
    },
    {
     "data": {
      "text/html": [],
      "text/plain": [
       "<IPython.core.display.HTML object>"
      ]
     },
     "metadata": {},
     "output_type": "display_data"
    },
    {
     "data": {
      "text/html": [],
      "text/plain": [
       "<IPython.core.display.HTML object>"
      ]
     },
     "metadata": {},
     "output_type": "display_data"
    },
    {
     "data": {
      "text/html": [],
      "text/plain": [
       "<IPython.core.display.HTML object>"
      ]
     },
     "metadata": {},
     "output_type": "display_data"
    },
    {
     "data": {
      "text/html": [],
      "text/plain": [
       "<IPython.core.display.HTML object>"
      ]
     },
     "metadata": {},
     "output_type": "display_data"
    },
    {
     "data": {
      "text/html": [],
      "text/plain": [
       "<IPython.core.display.HTML object>"
      ]
     },
     "metadata": {},
     "output_type": "display_data"
    },
    {
     "data": {
      "text/html": [],
      "text/plain": [
       "<IPython.core.display.HTML object>"
      ]
     },
     "metadata": {},
     "output_type": "display_data"
    },
    {
     "data": {
      "text/html": [],
      "text/plain": [
       "<IPython.core.display.HTML object>"
      ]
     },
     "metadata": {},
     "output_type": "display_data"
    },
    {
     "data": {
      "text/html": [],
      "text/plain": [
       "<IPython.core.display.HTML object>"
      ]
     },
     "metadata": {},
     "output_type": "display_data"
    },
    {
     "data": {
      "text/html": [],
      "text/plain": [
       "<IPython.core.display.HTML object>"
      ]
     },
     "metadata": {},
     "output_type": "display_data"
    },
    {
     "data": {
      "text/html": [],
      "text/plain": [
       "<IPython.core.display.HTML object>"
      ]
     },
     "metadata": {},
     "output_type": "display_data"
    },
    {
     "data": {
      "text/html": [],
      "text/plain": [
       "<IPython.core.display.HTML object>"
      ]
     },
     "metadata": {},
     "output_type": "display_data"
    },
    {
     "data": {
      "text/html": [],
      "text/plain": [
       "<IPython.core.display.HTML object>"
      ]
     },
     "metadata": {},
     "output_type": "display_data"
    },
    {
     "data": {
      "text/html": [],
      "text/plain": [
       "<IPython.core.display.HTML object>"
      ]
     },
     "metadata": {},
     "output_type": "display_data"
    },
    {
     "data": {
      "text/html": [],
      "text/plain": [
       "<IPython.core.display.HTML object>"
      ]
     },
     "metadata": {},
     "output_type": "display_data"
    },
    {
     "data": {
      "text/html": [],
      "text/plain": [
       "<IPython.core.display.HTML object>"
      ]
     },
     "metadata": {},
     "output_type": "display_data"
    },
    {
     "data": {
      "text/html": [],
      "text/plain": [
       "<IPython.core.display.HTML object>"
      ]
     },
     "metadata": {},
     "output_type": "display_data"
    },
    {
     "data": {
      "text/html": [],
      "text/plain": [
       "<IPython.core.display.HTML object>"
      ]
     },
     "metadata": {},
     "output_type": "display_data"
    },
    {
     "data": {
      "text/html": [],
      "text/plain": [
       "<IPython.core.display.HTML object>"
      ]
     },
     "metadata": {},
     "output_type": "display_data"
    },
    {
     "data": {
      "text/html": [],
      "text/plain": [
       "<IPython.core.display.HTML object>"
      ]
     },
     "metadata": {},
     "output_type": "display_data"
    },
    {
     "data": {
      "text/html": [],
      "text/plain": [
       "<IPython.core.display.HTML object>"
      ]
     },
     "metadata": {},
     "output_type": "display_data"
    },
    {
     "data": {
      "text/html": [],
      "text/plain": [
       "<IPython.core.display.HTML object>"
      ]
     },
     "metadata": {},
     "output_type": "display_data"
    },
    {
     "data": {
      "text/html": [],
      "text/plain": [
       "<IPython.core.display.HTML object>"
      ]
     },
     "metadata": {},
     "output_type": "display_data"
    },
    {
     "data": {
      "text/html": [],
      "text/plain": [
       "<IPython.core.display.HTML object>"
      ]
     },
     "metadata": {},
     "output_type": "display_data"
    },
    {
     "data": {
      "text/html": [],
      "text/plain": [
       "<IPython.core.display.HTML object>"
      ]
     },
     "metadata": {},
     "output_type": "display_data"
    },
    {
     "data": {
      "text/html": [],
      "text/plain": [
       "<IPython.core.display.HTML object>"
      ]
     },
     "metadata": {},
     "output_type": "display_data"
    },
    {
     "data": {
      "text/html": [],
      "text/plain": [
       "<IPython.core.display.HTML object>"
      ]
     },
     "metadata": {},
     "output_type": "display_data"
    },
    {
     "data": {
      "text/html": [],
      "text/plain": [
       "<IPython.core.display.HTML object>"
      ]
     },
     "metadata": {},
     "output_type": "display_data"
    },
    {
     "data": {
      "text/html": [],
      "text/plain": [
       "<IPython.core.display.HTML object>"
      ]
     },
     "metadata": {},
     "output_type": "display_data"
    },
    {
     "data": {
      "text/html": [],
      "text/plain": [
       "<IPython.core.display.HTML object>"
      ]
     },
     "metadata": {},
     "output_type": "display_data"
    },
    {
     "data": {
      "text/html": [],
      "text/plain": [
       "<IPython.core.display.HTML object>"
      ]
     },
     "metadata": {},
     "output_type": "display_data"
    },
    {
     "data": {
      "text/html": [],
      "text/plain": [
       "<IPython.core.display.HTML object>"
      ]
     },
     "metadata": {},
     "output_type": "display_data"
    },
    {
     "data": {
      "text/html": [],
      "text/plain": [
       "<IPython.core.display.HTML object>"
      ]
     },
     "metadata": {},
     "output_type": "display_data"
    },
    {
     "data": {
      "text/html": [],
      "text/plain": [
       "<IPython.core.display.HTML object>"
      ]
     },
     "metadata": {},
     "output_type": "display_data"
    },
    {
     "data": {
      "text/html": [],
      "text/plain": [
       "<IPython.core.display.HTML object>"
      ]
     },
     "metadata": {},
     "output_type": "display_data"
    },
    {
     "data": {
      "text/html": [],
      "text/plain": [
       "<IPython.core.display.HTML object>"
      ]
     },
     "metadata": {},
     "output_type": "display_data"
    },
    {
     "data": {
      "text/html": [],
      "text/plain": [
       "<IPython.core.display.HTML object>"
      ]
     },
     "metadata": {},
     "output_type": "display_data"
    },
    {
     "data": {
      "text/html": [],
      "text/plain": [
       "<IPython.core.display.HTML object>"
      ]
     },
     "metadata": {},
     "output_type": "display_data"
    },
    {
     "data": {
      "text/html": [],
      "text/plain": [
       "<IPython.core.display.HTML object>"
      ]
     },
     "metadata": {},
     "output_type": "display_data"
    },
    {
     "data": {
      "text/html": [],
      "text/plain": [
       "<IPython.core.display.HTML object>"
      ]
     },
     "metadata": {},
     "output_type": "display_data"
    },
    {
     "data": {
      "text/html": [],
      "text/plain": [
       "<IPython.core.display.HTML object>"
      ]
     },
     "metadata": {},
     "output_type": "display_data"
    },
    {
     "data": {
      "text/html": [],
      "text/plain": [
       "<IPython.core.display.HTML object>"
      ]
     },
     "metadata": {},
     "output_type": "display_data"
    },
    {
     "data": {
      "text/html": [],
      "text/plain": [
       "<IPython.core.display.HTML object>"
      ]
     },
     "metadata": {},
     "output_type": "display_data"
    },
    {
     "data": {
      "text/html": [],
      "text/plain": [
       "<IPython.core.display.HTML object>"
      ]
     },
     "metadata": {},
     "output_type": "display_data"
    },
    {
     "data": {
      "text/html": [],
      "text/plain": [
       "<IPython.core.display.HTML object>"
      ]
     },
     "metadata": {},
     "output_type": "display_data"
    },
    {
     "data": {
      "text/html": [],
      "text/plain": [
       "<IPython.core.display.HTML object>"
      ]
     },
     "metadata": {},
     "output_type": "display_data"
    },
    {
     "data": {
      "text/html": [],
      "text/plain": [
       "<IPython.core.display.HTML object>"
      ]
     },
     "metadata": {},
     "output_type": "display_data"
    },
    {
     "data": {
      "text/html": [],
      "text/plain": [
       "<IPython.core.display.HTML object>"
      ]
     },
     "metadata": {},
     "output_type": "display_data"
    },
    {
     "data": {
      "text/html": [],
      "text/plain": [
       "<IPython.core.display.HTML object>"
      ]
     },
     "metadata": {},
     "output_type": "display_data"
    },
    {
     "data": {
      "text/html": [],
      "text/plain": [
       "<IPython.core.display.HTML object>"
      ]
     },
     "metadata": {},
     "output_type": "display_data"
    },
    {
     "data": {
      "text/html": [],
      "text/plain": [
       "<IPython.core.display.HTML object>"
      ]
     },
     "metadata": {},
     "output_type": "display_data"
    },
    {
     "data": {
      "text/html": [],
      "text/plain": [
       "<IPython.core.display.HTML object>"
      ]
     },
     "metadata": {},
     "output_type": "display_data"
    },
    {
     "data": {
      "text/html": [],
      "text/plain": [
       "<IPython.core.display.HTML object>"
      ]
     },
     "metadata": {},
     "output_type": "display_data"
    },
    {
     "data": {
      "text/html": [],
      "text/plain": [
       "<IPython.core.display.HTML object>"
      ]
     },
     "metadata": {},
     "output_type": "display_data"
    },
    {
     "data": {
      "text/html": [],
      "text/plain": [
       "<IPython.core.display.HTML object>"
      ]
     },
     "metadata": {},
     "output_type": "display_data"
    },
    {
     "data": {
      "text/html": [],
      "text/plain": [
       "<IPython.core.display.HTML object>"
      ]
     },
     "metadata": {},
     "output_type": "display_data"
    },
    {
     "data": {
      "text/html": [],
      "text/plain": [
       "<IPython.core.display.HTML object>"
      ]
     },
     "metadata": {},
     "output_type": "display_data"
    },
    {
     "data": {
      "text/html": [],
      "text/plain": [
       "<IPython.core.display.HTML object>"
      ]
     },
     "metadata": {},
     "output_type": "display_data"
    },
    {
     "data": {
      "text/html": [],
      "text/plain": [
       "<IPython.core.display.HTML object>"
      ]
     },
     "metadata": {},
     "output_type": "display_data"
    },
    {
     "data": {
      "text/html": [],
      "text/plain": [
       "<IPython.core.display.HTML object>"
      ]
     },
     "metadata": {},
     "output_type": "display_data"
    },
    {
     "data": {
      "text/html": [],
      "text/plain": [
       "<IPython.core.display.HTML object>"
      ]
     },
     "metadata": {},
     "output_type": "display_data"
    },
    {
     "data": {
      "text/html": [],
      "text/plain": [
       "<IPython.core.display.HTML object>"
      ]
     },
     "metadata": {},
     "output_type": "display_data"
    },
    {
     "data": {
      "text/html": [],
      "text/plain": [
       "<IPython.core.display.HTML object>"
      ]
     },
     "metadata": {},
     "output_type": "display_data"
    },
    {
     "data": {
      "text/html": [],
      "text/plain": [
       "<IPython.core.display.HTML object>"
      ]
     },
     "metadata": {},
     "output_type": "display_data"
    },
    {
     "data": {
      "text/html": [],
      "text/plain": [
       "<IPython.core.display.HTML object>"
      ]
     },
     "metadata": {},
     "output_type": "display_data"
    },
    {
     "data": {
      "text/html": [],
      "text/plain": [
       "<IPython.core.display.HTML object>"
      ]
     },
     "metadata": {},
     "output_type": "display_data"
    },
    {
     "data": {
      "text/html": [],
      "text/plain": [
       "<IPython.core.display.HTML object>"
      ]
     },
     "metadata": {},
     "output_type": "display_data"
    },
    {
     "data": {
      "text/html": [],
      "text/plain": [
       "<IPython.core.display.HTML object>"
      ]
     },
     "metadata": {},
     "output_type": "display_data"
    },
    {
     "data": {
      "text/html": [],
      "text/plain": [
       "<IPython.core.display.HTML object>"
      ]
     },
     "metadata": {},
     "output_type": "display_data"
    },
    {
     "data": {
      "text/html": [],
      "text/plain": [
       "<IPython.core.display.HTML object>"
      ]
     },
     "metadata": {},
     "output_type": "display_data"
    },
    {
     "data": {
      "text/html": [],
      "text/plain": [
       "<IPython.core.display.HTML object>"
      ]
     },
     "metadata": {},
     "output_type": "display_data"
    },
    {
     "data": {
      "text/html": [],
      "text/plain": [
       "<IPython.core.display.HTML object>"
      ]
     },
     "metadata": {},
     "output_type": "display_data"
    },
    {
     "data": {
      "text/html": [],
      "text/plain": [
       "<IPython.core.display.HTML object>"
      ]
     },
     "metadata": {},
     "output_type": "display_data"
    },
    {
     "data": {
      "text/html": [],
      "text/plain": [
       "<IPython.core.display.HTML object>"
      ]
     },
     "metadata": {},
     "output_type": "display_data"
    },
    {
     "data": {
      "text/html": [],
      "text/plain": [
       "<IPython.core.display.HTML object>"
      ]
     },
     "metadata": {},
     "output_type": "display_data"
    },
    {
     "data": {
      "text/html": [],
      "text/plain": [
       "<IPython.core.display.HTML object>"
      ]
     },
     "metadata": {},
     "output_type": "display_data"
    },
    {
     "data": {
      "text/html": [],
      "text/plain": [
       "<IPython.core.display.HTML object>"
      ]
     },
     "metadata": {},
     "output_type": "display_data"
    },
    {
     "data": {
      "text/html": [],
      "text/plain": [
       "<IPython.core.display.HTML object>"
      ]
     },
     "metadata": {},
     "output_type": "display_data"
    },
    {
     "data": {
      "text/html": [],
      "text/plain": [
       "<IPython.core.display.HTML object>"
      ]
     },
     "metadata": {},
     "output_type": "display_data"
    },
    {
     "data": {
      "text/html": [],
      "text/plain": [
       "<IPython.core.display.HTML object>"
      ]
     },
     "metadata": {},
     "output_type": "display_data"
    },
    {
     "data": {
      "text/html": [],
      "text/plain": [
       "<IPython.core.display.HTML object>"
      ]
     },
     "metadata": {},
     "output_type": "display_data"
    },
    {
     "data": {
      "text/html": [],
      "text/plain": [
       "<IPython.core.display.HTML object>"
      ]
     },
     "metadata": {},
     "output_type": "display_data"
    },
    {
     "data": {
      "text/html": [],
      "text/plain": [
       "<IPython.core.display.HTML object>"
      ]
     },
     "metadata": {},
     "output_type": "display_data"
    },
    {
     "data": {
      "text/html": [],
      "text/plain": [
       "<IPython.core.display.HTML object>"
      ]
     },
     "metadata": {},
     "output_type": "display_data"
    },
    {
     "data": {
      "text/html": [],
      "text/plain": [
       "<IPython.core.display.HTML object>"
      ]
     },
     "metadata": {},
     "output_type": "display_data"
    },
    {
     "data": {
      "text/html": [],
      "text/plain": [
       "<IPython.core.display.HTML object>"
      ]
     },
     "metadata": {},
     "output_type": "display_data"
    },
    {
     "data": {
      "text/html": [],
      "text/plain": [
       "<IPython.core.display.HTML object>"
      ]
     },
     "metadata": {},
     "output_type": "display_data"
    },
    {
     "data": {
      "text/html": [],
      "text/plain": [
       "<IPython.core.display.HTML object>"
      ]
     },
     "metadata": {},
     "output_type": "display_data"
    },
    {
     "data": {
      "text/html": [],
      "text/plain": [
       "<IPython.core.display.HTML object>"
      ]
     },
     "metadata": {},
     "output_type": "display_data"
    },
    {
     "data": {
      "text/html": [],
      "text/plain": [
       "<IPython.core.display.HTML object>"
      ]
     },
     "metadata": {},
     "output_type": "display_data"
    },
    {
     "data": {
      "text/html": [],
      "text/plain": [
       "<IPython.core.display.HTML object>"
      ]
     },
     "metadata": {},
     "output_type": "display_data"
    },
    {
     "data": {
      "text/html": [],
      "text/plain": [
       "<IPython.core.display.HTML object>"
      ]
     },
     "metadata": {},
     "output_type": "display_data"
    },
    {
     "data": {
      "text/html": [],
      "text/plain": [
       "<IPython.core.display.HTML object>"
      ]
     },
     "metadata": {},
     "output_type": "display_data"
    },
    {
     "data": {
      "text/html": [],
      "text/plain": [
       "<IPython.core.display.HTML object>"
      ]
     },
     "metadata": {},
     "output_type": "display_data"
    },
    {
     "data": {
      "text/html": [],
      "text/plain": [
       "<IPython.core.display.HTML object>"
      ]
     },
     "metadata": {},
     "output_type": "display_data"
    },
    {
     "data": {
      "text/html": [],
      "text/plain": [
       "<IPython.core.display.HTML object>"
      ]
     },
     "metadata": {},
     "output_type": "display_data"
    },
    {
     "data": {
      "text/html": [],
      "text/plain": [
       "<IPython.core.display.HTML object>"
      ]
     },
     "metadata": {},
     "output_type": "display_data"
    },
    {
     "data": {
      "text/html": [],
      "text/plain": [
       "<IPython.core.display.HTML object>"
      ]
     },
     "metadata": {},
     "output_type": "display_data"
    },
    {
     "data": {
      "text/html": [],
      "text/plain": [
       "<IPython.core.display.HTML object>"
      ]
     },
     "metadata": {},
     "output_type": "display_data"
    },
    {
     "data": {
      "text/html": [],
      "text/plain": [
       "<IPython.core.display.HTML object>"
      ]
     },
     "metadata": {},
     "output_type": "display_data"
    },
    {
     "data": {
      "text/html": [],
      "text/plain": [
       "<IPython.core.display.HTML object>"
      ]
     },
     "metadata": {},
     "output_type": "display_data"
    },
    {
     "data": {
      "text/html": [],
      "text/plain": [
       "<IPython.core.display.HTML object>"
      ]
     },
     "metadata": {},
     "output_type": "display_data"
    }
   ],
   "source": [
    "for i in range(50, len(df)):\n",
    "  pred,_,prob = learn.predict(df[\"Articles\"].iloc[i])\n",
    "  df.iloc[i,1] = pred"
   ]
  },
  {
   "cell_type": "code",
   "execution_count": 76,
   "metadata": {
    "colab": {
     "base_uri": "https://localhost:8080/",
     "height": 498
    },
    "executionInfo": {
     "elapsed": 7,
     "status": "ok",
     "timestamp": 1637592650298,
     "user": {
      "displayName": "A Negative Imus",
      "photoUrl": "https://lh3.googleusercontent.com/a/default-user=s64",
      "userId": "13587769496691569596"
     },
     "user_tz": 0
    },
    "id": "KZFUmbCdCKyq",
    "outputId": "32742d1c-3626-4973-a0ff-634df79a69a5"
   },
   "outputs": [
    {
     "data": {
      "text/html": [
       "<div>\n",
       "<style scoped>\n",
       "    .dataframe tbody tr th:only-of-type {\n",
       "        vertical-align: middle;\n",
       "    }\n",
       "\n",
       "    .dataframe tbody tr th {\n",
       "        vertical-align: top;\n",
       "    }\n",
       "\n",
       "    .dataframe thead th {\n",
       "        text-align: right;\n",
       "    }\n",
       "</style>\n",
       "<table border=\"1\" class=\"dataframe\">\n",
       "  <thead>\n",
       "    <tr style=\"text-align: right;\">\n",
       "      <th></th>\n",
       "      <th>Articles</th>\n",
       "      <th>Niceness</th>\n",
       "    </tr>\n",
       "    <tr>\n",
       "      <th>Identifier</th>\n",
       "      <th></th>\n",
       "      <th></th>\n",
       "    </tr>\n",
       "  </thead>\n",
       "  <tbody>\n",
       "    <tr>\n",
       "      <th>310</th>\n",
       "      <td>\".... to state, for the informationof the CONTRACTING \\n\\n\\nPARTIES to the General Agreement on Tariffs and Trade, that \\n\\n\\na Customs Union (Interim) Agreement was concluded. between \\n\\n\\nthe Government of the Union of South Africa and the Govern\\n\\nment of Southern Rhodesia on 6th December, 1948. \\n\"2. Forty copies of the Agreement are being forwarded by\\n\\n\\nsurface mail for distribution amongst the contracting parties. \\n\"3. In terms of Article 28 thereof, the two Governments \\n\\n\\nhave decided that the Agreement shall onnter into force on \\n\\n\\n1st April, 1949 \\n\"4. In order to enab...</td>\n",
       "      <td>0</td>\n",
       "    </tr>\n",
       "    <tr>\n",
       "      <th>254</th>\n",
       "      <td>FREE-TRADE TREATY BETWEEN THE REPUBLICS OF NICARAGUA \\nAND EL SALVADOR \\n\\n\\nThe Government of the Republic of Nicaragua and the Government of the \\nRepublic of El Salvador, desirous of strengthening the traditional bonds of \\nfraternal friendship which exist between the two countries and of developing \\nstill further and to their mutual advantage their trade relations, have \\ndecided to conclude a free-trade treaty and have, for this purpose, appointed \\nas their respective plenipotentiaries: \\n\\n\\nFor His Excellency the President of the Republic of Nicaragua, \\n\\n\\nThe Nicaraguan Ministe...</td>\n",
       "      <td>0</td>\n",
       "    </tr>\n",
       "    <tr>\n",
       "      <th>266</th>\n",
       "      <td>RESTRICTED \\n\\n\\nGENERAL AGREEMENT ON L/1766 17 May 1962 \\nTARIFFS AND TRADE Limited Distribution \\n\\n\\nOriginal: English \\n\\n\\nGHANA-UPPER VOLTA TRADE AGREEMENT \\n\\n\\nText ofAgreement Signed on 28 June 1961 \\n\\n\\nThe Government of Ghana has furnished the text, reproduced below, of the \\nTrade Agreement concluded with the Republic of Upper Volta for the information \\nof the contracting parties. At the meeting of the Committee on Balance-of-\\nPayments Restrictions on 9 May, the representative of Ghana stated that \\n\"this agreement in effect establishes a free-trade area between Ghana and \\n...</td>\n",
       "      <td>1</td>\n",
       "    </tr>\n",
       "    <tr>\n",
       "      <th>174</th>\n",
       "      <td>The Government of New Zealand and the Government of the Commonwealth of \\nAustralia, \\nRecalling the Australian-New Zealand Agreement 1944 in which they agreed to \\n\\n\\nfacilitate the development of commerce between New Zealand and Australia, \\nDesirous of strengthening economic relations between their two countries, and \\nRecognizing the obligations assumed by them under the General Agreement on \\n\\n\\nTariffs and Trade, \\nHave agreed as follows: Free \\tTrade Area \\n\\n\\n\\n1. A Free Trade Area (in this Agreement called \"the Area\") is hereby \\nestablished. \\n\\n\\n\\n2. The Area consists of New...</td>\n",
       "      <td>0</td>\n",
       "    </tr>\n",
       "    <tr>\n",
       "      <th>274</th>\n",
       "      <td>UNITED KINGDOM/IRELAND \\nFREE-TRADE AREA AGREEMENT \\n\\n\\nPREAMBLE \\n\\n\\nThe Government of the United Kingdom and the Government of the Republic of \\nIreland; \\n\\n\\nBearing inmind the close economic links long existing between their two \\ncountries, the special trading relationship which has developed under the \\nTrade Agreements concluded between them in 1938,1 1948,2 1960,3 and the substantial measure of interdependence of the economics of the two countries; \\n\\n\\nDetermined to expand mutual trade and to that end to eliminate duties and \\nother restrictive regulations of commerce on subst...</td>\n",
       "      <td>1</td>\n",
       "    </tr>\n",
       "  </tbody>\n",
       "</table>\n",
       "</div>"
      ],
      "text/plain": [
       "                                                                                                                                                                                                                                                                                                                                                                                                                                                                                                                                                                                                                           Articles  \\\n",
       "Identifier                                                                                                                                                                                                                                                                                                                                                                                                                                                                                                                                                                                                                            \n",
       "310         \".... to state, for the informationof the CONTRACTING \\n\\n\\nPARTIES to the General Agreement on Tariffs and Trade, that \\n\\n\\na Customs Union (Interim) Agreement was concluded. between \\n\\n\\nthe Government of the Union of South Africa and the Govern\\n\\nment of Southern Rhodesia on 6th December, 1948. \\n\"2. Forty copies of the Agreement are being forwarded by\\n\\n\\nsurface mail for distribution amongst the contracting parties. \\n\"3. In terms of Article 28 thereof, the two Governments \\n\\n\\nhave decided that the Agreement shall onnter into force on \\n\\n\\n1st April, 1949 \\n\"4. In order to enab...   \n",
       "254         FREE-TRADE TREATY BETWEEN THE REPUBLICS OF NICARAGUA \\nAND EL SALVADOR \\n\\n\\nThe Government of the Republic of Nicaragua and the Government of the \\nRepublic of El Salvador, desirous of strengthening the traditional bonds of \\nfraternal friendship which exist between the two countries and of developing \\nstill further and to their mutual advantage their trade relations, have \\ndecided to conclude a free-trade treaty and have, for this purpose, appointed \\nas their respective plenipotentiaries: \\n\\n\\nFor His Excellency the President of the Republic of Nicaragua, \\n\\n\\nThe Nicaraguan Ministe...   \n",
       "266         RESTRICTED \\n\\n\\nGENERAL AGREEMENT ON L/1766 17 May 1962 \\nTARIFFS AND TRADE Limited Distribution \\n\\n\\nOriginal: English \\n\\n\\nGHANA-UPPER VOLTA TRADE AGREEMENT \\n\\n\\nText ofAgreement Signed on 28 June 1961 \\n\\n\\nThe Government of Ghana has furnished the text, reproduced below, of the \\nTrade Agreement concluded with the Republic of Upper Volta for the information \\nof the contracting parties. At the meeting of the Committee on Balance-of-\\nPayments Restrictions on 9 May, the representative of Ghana stated that \\n\"this agreement in effect establishes a free-trade area between Ghana and \\n...   \n",
       "174         The Government of New Zealand and the Government of the Commonwealth of \\nAustralia, \\nRecalling the Australian-New Zealand Agreement 1944 in which they agreed to \\n\\n\\nfacilitate the development of commerce between New Zealand and Australia, \\nDesirous of strengthening economic relations between their two countries, and \\nRecognizing the obligations assumed by them under the General Agreement on \\n\\n\\nTariffs and Trade, \\nHave agreed as follows: Free \\tTrade Area \\n\\n\\n\\n1. A Free Trade Area (in this Agreement called \"the Area\") is hereby \\nestablished. \\n\\n\\n\\n2. The Area consists of New...   \n",
       "274         UNITED KINGDOM/IRELAND \\nFREE-TRADE AREA AGREEMENT \\n\\n\\nPREAMBLE \\n\\n\\nThe Government of the United Kingdom and the Government of the Republic of \\nIreland; \\n\\n\\nBearing inmind the close economic links long existing between their two \\ncountries, the special trading relationship which has developed under the \\nTrade Agreements concluded between them in 1938,1 1948,2 1960,3 and the substantial measure of interdependence of the economics of the two countries; \\n\\n\\nDetermined to expand mutual trade and to that end to eliminate duties and \\nother restrictive regulations of commerce on subst...   \n",
       "\n",
       "           Niceness  \n",
       "Identifier           \n",
       "310               0  \n",
       "254               0  \n",
       "266               1  \n",
       "174               0  \n",
       "274               1  "
      ]
     },
     "execution_count": 76,
     "metadata": {},
     "output_type": "execute_result"
    }
   ],
   "source": [
    "df"
   ]
  },
  {
   "cell_type": "code",
   "execution_count": 90,
   "metadata": {
    "executionInfo": {
     "elapsed": 162,
     "status": "ok",
     "timestamp": 1637593422051,
     "user": {
      "displayName": "A Negative Imus",
      "photoUrl": "https://lh3.googleusercontent.com/a/default-user=s64",
      "userId": "13587769496691569596"
     },
     "user_tz": 0
    },
    "id": "S6ADaKFzJ3-U"
   },
   "outputs": [],
   "source": [
    "df[\"Niceness\"] = pd.to_numeric(df[\"Niceness\"]).astype(int)"
   ]
  },
  {
   "cell_type": "code",
   "execution_count": 91,
   "metadata": {
    "executionInfo": {
     "elapsed": 938,
     "status": "ok",
     "timestamp": 1637593428250,
     "user": {
      "displayName": "A Negative Imus",
      "photoUrl": "https://lh3.googleusercontent.com/a/default-user=s64",
      "userId": "13587769496691569596"
     },
     "user_tz": 0
    },
    "id": "5xLdq-t8Bjoa"
   },
   "outputs": [],
   "source": [
    "df.to_csv(\"/content/gdrive/MyDrive/tota2/machine_labelled.csv\")"
   ]
  }
 ],
 "metadata": {
  "accelerator": "GPU",
  "colab": {
   "collapsed_sections": [],
   "name": "NLP Transfer Learning.ipynb",
   "provenance": []
  },
  "jupytext": {
   "split_at_heading": true
  },
  "kernelspec": {
   "display_name": "Python 3 (ipykernel)",
   "language": "python",
   "name": "python3"
  },
  "language_info": {
   "codemirror_mode": {
    "name": "ipython",
    "version": 3
   },
   "file_extension": ".py",
   "mimetype": "text/x-python",
   "name": "python",
   "nbconvert_exporter": "python",
   "pygments_lexer": "ipython3",
   "version": "3.9.7"
  }
 },
 "nbformat": 4,
 "nbformat_minor": 1
}
