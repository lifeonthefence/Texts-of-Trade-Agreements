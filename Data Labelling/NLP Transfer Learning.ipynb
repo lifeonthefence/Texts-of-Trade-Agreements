{
 "cells": [
  {
   "cell_type": "code",
   "execution_count": 1,
   "metadata": {
    "colab": {
     "base_uri": "https://localhost:8080/"
    },
    "executionInfo": {
     "elapsed": 242560,
     "status": "ok",
     "timestamp": 1636023060944,
     "user": {
      "displayName": "A Negative Imus",
      "photoUrl": "https://lh3.googleusercontent.com/a/default-user=s64",
      "userId": "13587769496691569596"
     },
     "user_tz": 0
    },
    "id": "3XPmBzJT7Mff",
    "outputId": "7149cc56-b327-4726-cdb0-67774861686d"
   },
   "outputs": [],
   "source": [
    "#hide\n",
    "!pip install -Uqq fastbook\n",
    "import fastbook\n",
    "fastbook.setup_book()"
   ]
  },
  {
   "cell_type": "code",
   "execution_count": 2,
   "metadata": {
    "executionInfo": {
     "elapsed": 46,
     "status": "ok",
     "timestamp": 1636023060952,
     "user": {
      "displayName": "A Negative Imus",
      "photoUrl": "https://lh3.googleusercontent.com/a/default-user=s64",
      "userId": "13587769496691569596"
     },
     "user_tz": 0
    },
    "id": "Yerj7uWy7Mfj"
   },
   "outputs": [],
   "source": [
    "#hide\n",
    "from fastbook import *\n",
    "from IPython.display import display,HTML\n",
    "from fastai.text.all import *"
   ]
  },
  {
   "cell_type": "code",
   "execution_count": 3,
   "metadata": {
    "executionInfo": {
     "elapsed": 1922,
     "status": "ok",
     "timestamp": 1636023062835,
     "user": {
      "displayName": "A Negative Imus",
      "photoUrl": "https://lh3.googleusercontent.com/a/default-user=s64",
      "userId": "13587769496691569596"
     },
     "user_tz": 0
    },
    "id": "TmInnr5m7Mfm"
   },
   "outputs": [],
   "source": [
    "path = Path(\"texts/\")"
   ]
  },
  {
   "cell_type": "code",
   "execution_count": null,
   "metadata": {
    "executionInfo": {
     "elapsed": 1438,
     "status": "ok",
     "timestamp": 1636023064260,
     "user": {
      "displayName": "A Negative Imus",
      "photoUrl": "https://lh3.googleusercontent.com/a/default-user=s64",
      "userId": "13587769496691569596"
     },
     "user_tz": 0
    },
    "id": "RHA_M-5e7Mfn"
   },
   "outputs": [],
   "source": [
    "files = get_text_files(path)"
   ]
  },
  {
   "cell_type": "code",
   "execution_count": 4,
   "metadata": {
    "executionInfo": {
     "elapsed": 78458,
     "status": "ok",
     "timestamp": 1636023188469,
     "user": {
      "displayName": "A Negative Imus",
      "photoUrl": "https://lh3.googleusercontent.com/a/default-user=s64",
      "userId": "13587769496691569596"
     },
     "user_tz": 0
    },
    "id": "k_dOdHyo7Mf3"
   },
   "outputs": [],
   "source": [
    "dls_lm = DataBlock(\n",
    "    blocks=TextBlock.from_folder(path, is_lm=True),\n",
    "    get_items=get_text_files, splitter=RandomSplitter(0.1)\n",
    ").dataloaders(path, path=path, bs=128, seq_len=80)"
   ]
  },
  {
   "cell_type": "code",
   "execution_count": null,
   "metadata": {
    "colab": {
     "base_uri": "https://localhost:8080/",
     "height": 268
    },
    "executionInfo": {
     "elapsed": 1620,
     "status": "ok",
     "timestamp": 1635979552902,
     "user": {
      "displayName": "A Negative Imus",
      "photoUrl": "https://lh3.googleusercontent.com/a/default-user=s64",
      "userId": "13587769496691569596"
     },
     "user_tz": 0
    },
    "id": "vBm4b4Ch7Mf3",
    "outputId": "089f89cf-2b66-48b3-8960-3783f2be9f98"
   },
   "outputs": [],
   "source": [
    "dls_lm.show_batch(max_n=2)"
   ]
  },
  {
   "cell_type": "markdown",
   "metadata": {
    "id": "CZEdYLih7Mf4"
   },
   "source": [
    "### Fine-Tuning the Language Model"
   ]
  },
  {
   "cell_type": "code",
   "execution_count": 5,
   "metadata": {
    "colab": {
     "base_uri": "https://localhost:8080/",
     "height": 37
    },
    "executionInfo": {
     "elapsed": 7410,
     "status": "ok",
     "timestamp": 1636023244275,
     "user": {
      "displayName": "A Negative Imus",
      "photoUrl": "https://lh3.googleusercontent.com/a/default-user=s64",
      "userId": "13587769496691569596"
     },
     "user_tz": 0
    },
    "id": "4KAKc41c7Mf4",
    "outputId": "9542d90f-3597-41f8-c794-2b3f6534601a"
   },
   "outputs": [],
   "source": [
    "learn = language_model_learner(\n",
    "    dls_lm, AWD_LSTM, drop_mult=0.3, \n",
    "    metrics=[accuracy, Perplexity()]).to_fp16()"
   ]
  },
  {
   "cell_type": "code",
   "execution_count": null,
   "metadata": {
    "colab": {
     "base_uri": "https://localhost:8080/",
     "height": 81
    },
    "executionInfo": {
     "elapsed": 1005360,
     "status": "ok",
     "timestamp": 1635980676809,
     "user": {
      "displayName": "A Negative Imus",
      "photoUrl": "https://lh3.googleusercontent.com/a/default-user=s64",
      "userId": "13587769496691569596"
     },
     "user_tz": 0
    },
    "id": "4ZDXGEd57Mf4",
    "outputId": "4fb3c81e-a81e-4c94-ba81-75a2e2ea088e"
   },
   "outputs": [],
   "source": [
    "learn.fit_one_cycle(1, 2e-2)"
   ]
  },
  {
   "cell_type": "markdown",
   "metadata": {
    "id": "wxbE6Q6V7Mf5"
   },
   "source": [
    "### Saving and Loading Models"
   ]
  },
  {
   "cell_type": "code",
   "execution_count": null,
   "metadata": {
    "colab": {
     "base_uri": "https://localhost:8080/"
    },
    "executionInfo": {
     "elapsed": 800,
     "status": "ok",
     "timestamp": 1635980872788,
     "user": {
      "displayName": "A Negative Imus",
      "photoUrl": "https://lh3.googleusercontent.com/a/default-user=s64",
      "userId": "13587769496691569596"
     },
     "user_tz": 0
    },
    "id": "9ai-fUKF7Mf5",
    "outputId": "744cc763-5241-4af1-fbf8-552d9752158e"
   },
   "outputs": [],
   "source": [
    "learn.save('1epoch')"
   ]
  },
  {
   "cell_type": "code",
   "execution_count": 6,
   "metadata": {
    "executionInfo": {
     "elapsed": 556,
     "status": "ok",
     "timestamp": 1636023886675,
     "user": {
      "displayName": "A Negative Imus",
      "photoUrl": "https://lh3.googleusercontent.com/a/default-user=s64",
      "userId": "13587769496691569596"
     },
     "user_tz": 0
    },
    "id": "4NZuapUx7Mf5"
   },
   "outputs": [],
   "source": [
    "learn = learn.load('1epoch')"
   ]
  },
  {
   "cell_type": "code",
   "execution_count": null,
   "metadata": {
    "colab": {
     "base_uri": "https://localhost:8080/",
     "height": 206
    },
    "executionInfo": {
     "elapsed": 6221261,
     "status": "ok",
     "timestamp": 1636030445491,
     "user": {
      "displayName": "A Negative Imus",
      "photoUrl": "https://lh3.googleusercontent.com/a/default-user=s64",
      "userId": "13587769496691569596"
     },
     "user_tz": 0
    },
    "id": "w3ErlXEM7Mf5",
    "outputId": "cb59b3be-82fd-4ebe-acef-5e3ef4592166"
   },
   "outputs": [],
   "source": [
    "learn.unfreeze()\n",
    "learn.fit_one_cycle(5, 2e-3)\n",
    "learn.save_encoder('5-finetuned')"
   ]
  },
  {
   "cell_type": "code",
   "execution_count": null,
   "metadata": {
    "id": "c8O9YTPKijFc"
   },
   "outputs": [],
   "source": [
    "learn.fit_one_cycle(3, 2e-3)\n",
    "learn.save_encoder('8-finetuned')"
   ]
  },
  {
   "cell_type": "markdown",
   "metadata": {
    "id": "xTm6WUws7Mf5"
   },
   "source": [
    "### Text Generation"
   ]
  },
  {
   "cell_type": "code",
   "execution_count": 7,
   "metadata": {},
   "outputs": [],
   "source": [
    "learn = learn.load_encoder('5-finetuned')"
   ]
  },
  {
   "cell_type": "code",
   "execution_count": 8,
   "metadata": {
    "colab": {
     "base_uri": "https://localhost:8080/",
     "height": 73
    },
    "executionInfo": {
     "elapsed": 2524,
     "status": "ok",
     "timestamp": 1636023736120,
     "user": {
      "displayName": "A Negative Imus",
      "photoUrl": "https://lh3.googleusercontent.com/a/default-user=s64",
      "userId": "13587769496691569596"
     },
     "user_tz": 0
    },
    "id": "cOVC94GO7Mf5",
    "outputId": "dda6cf2b-cfa0-4307-c5cd-fb87b1f51b73"
   },
   "outputs": [
    {
     "data": {
      "text/html": [],
      "text/plain": [
       "<IPython.core.display.HTML object>"
      ]
     },
     "metadata": {},
     "output_type": "display_data"
    },
    {
     "data": {
      "text/html": [],
      "text/plain": [
       "<IPython.core.display.HTML object>"
      ]
     },
     "metadata": {},
     "output_type": "display_data"
    },
    {
     "name": "stdout",
     "output_type": "stream",
     "text": [
      "The United States and the Kingdom of Thailand the Government of the Republic of Korea ( hereinafter referred to as “ korea ” ) and the Review and Review Committee established in accordance with Article mfn iii xa0restrictionsxa0restrictionsxa0restrictions ((( thethethe Free Trade Commission ) ,\n",
      "The United States and the Kingdom of Thailand the Parties , the two countries to concern in the light of the economic situation of the physical and the removal of any difficulties in the process of economic development . To this end , Article ASSIGNED of GATT 1994 and its japan notes are\n"
     ]
    }
   ],
   "source": [
    "TEXT = \"The United States and the Kingdom of Thailand\"\n",
    "N_WORDS = 50\n",
    "N_SENTENCES = 2\n",
    "preds = [learn.predict(TEXT, N_WORDS, temperature=0.75) \n",
    "         for _ in range(N_SENTENCES)]\n",
    "print(\"\\n\".join(preds))"
   ]
  },
  {
   "cell_type": "markdown",
   "metadata": {
    "id": "yDw09VPh7Mf6"
   },
   "source": [
    "### Creating the Classifier DataLoaders"
   ]
  },
  {
   "cell_type": "code",
   "execution_count": null,
   "metadata": {
    "id": "7IfsH2Wo7Mf6"
   },
   "outputs": [],
   "source": [
    "dls_clas = DataBlock(\n",
    "    blocks=(TextBlock.from_folder(path, vocab=dls_lm.vocab),CategoryBlock),\n",
    "    get_y = parent_label,\n",
    "    get_items=partial(get_text_files, folders=['train', 'test']),\n",
    "    splitter=GrandparentSplitter(valid_name='test')\n",
    ").dataloaders(path, path=path, bs=128, seq_len=72)"
   ]
  },
  {
   "cell_type": "code",
   "execution_count": null,
   "metadata": {
    "id": "_Uy7BRrj7Mf7"
   },
   "outputs": [],
   "source": [
    "dls_clas.show_batch(max_n=3)"
   ]
  },
  {
   "cell_type": "code",
   "execution_count": null,
   "metadata": {
    "id": "2b6555z_7Mf7"
   },
   "outputs": [],
   "source": [
    "nums_samp = toks200[:10].map(num)"
   ]
  },
  {
   "cell_type": "code",
   "execution_count": null,
   "metadata": {
    "id": "uX1b3Udc7Mf8"
   },
   "outputs": [],
   "source": [
    "nums_samp.map(len)"
   ]
  },
  {
   "cell_type": "code",
   "execution_count": null,
   "metadata": {
    "id": "KMSUcQ227Mf8"
   },
   "outputs": [],
   "source": [
    "learn = text_classifier_learner(dls_clas, AWD_LSTM, drop_mult=0.5, \n",
    "                                metrics=accuracy).to_fp16()"
   ]
  },
  {
   "cell_type": "code",
   "execution_count": null,
   "metadata": {
    "id": "CaKDiIiN7Mf8"
   },
   "outputs": [],
   "source": [
    "learn = learn.load_encoder('finetuned')"
   ]
  },
  {
   "cell_type": "markdown",
   "metadata": {
    "id": "6RDMuMTK7Mf9"
   },
   "source": [
    "### Fine-Tuning the Classifier"
   ]
  },
  {
   "cell_type": "code",
   "execution_count": null,
   "metadata": {
    "id": "jnkKW1Ny7Mf9"
   },
   "outputs": [],
   "source": [
    "learn.fit_one_cycle(1, 2e-2)"
   ]
  },
  {
   "cell_type": "code",
   "execution_count": null,
   "metadata": {
    "id": "Mju4EY407Mf-"
   },
   "outputs": [],
   "source": [
    "learn.freeze_to(-2)\n",
    "learn.fit_one_cycle(1, slice(1e-2/(2.6**4),1e-2))"
   ]
  },
  {
   "cell_type": "code",
   "execution_count": null,
   "metadata": {
    "id": "SFwNCQd17Mf-"
   },
   "outputs": [],
   "source": [
    "learn.freeze_to(-3)\n",
    "learn.fit_one_cycle(1, slice(5e-3/(2.6**4),5e-3))"
   ]
  },
  {
   "cell_type": "code",
   "execution_count": null,
   "metadata": {
    "id": "sDTr0dFj7Mf_"
   },
   "outputs": [],
   "source": [
    "learn.unfreeze()\n",
    "learn.fit_one_cycle(2, slice(1e-3/(2.6**4),1e-3))"
   ]
  }
 ],
 "metadata": {
  "accelerator": "GPU",
  "colab": {
   "collapsed_sections": [
    "05lcnXsc7MgB"
   ],
   "name": "10_nlp.ipynb",
   "provenance": []
  },
  "jupytext": {
   "split_at_heading": true
  },
  "kernelspec": {
   "display_name": "Python 3 (ipykernel)",
   "language": "python",
   "name": "python3"
  },
  "language_info": {
   "codemirror_mode": {
    "name": "ipython",
    "version": 3
   },
   "file_extension": ".py",
   "mimetype": "text/x-python",
   "name": "python",
   "nbconvert_exporter": "python",
   "pygments_lexer": "ipython3",
   "version": "3.9.7"
  }
 },
 "nbformat": 4,
 "nbformat_minor": 1
}
