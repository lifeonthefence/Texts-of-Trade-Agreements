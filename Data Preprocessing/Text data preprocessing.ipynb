{
 "cells": [
  {
   "cell_type": "code",
   "execution_count": 444,
   "metadata": {
    "scrolled": true
   },
   "outputs": [],
   "source": [
    "import numpy as np\n",
    "import pandas as pd\n",
    "import os\n",
    "import xml.etree.ElementTree as ET\n",
    "\n",
    "# get list of file names\n",
    "files = [os.path.join('tota-master', 'xml', path) for path in os.listdir(os.path.join('tota-master', 'xml'))]\n",
    "\n",
    "columns = ['Name', 'Type', 'WTO ID', 'Identifier', 'Date signed', 'Date into force', 'Date of notification', 'End of implementation', 'Date inactive', 'Original parties', 'Current parties', 'Composition', 'Region', 'All WTO', 'Cross Regional', 'Language', 'Text']\n",
    "df = pd.DataFrame(columns=columns)\n",
    "\n",
    "# populate data frame\n",
    "for (idx, file) in enumerate(files):\n",
    "    root = ET.parse(file).getroot()\n",
    "    meta = root[0]\n",
    "    body = root[1]\n",
    "    \n",
    "    name = meta.find('name').text\n",
    "    _type = meta.find('type').text\n",
    "    _id = meta.find('wto_rta_id').text\n",
    "    identifier = meta.find('treaty_identifier').text\n",
    "    date_signed = meta.find('date_signed').text\n",
    "    date_into_force = meta.find('date_into_force').text\n",
    "    date_notification = meta.find('date_notification').text\n",
    "    end_implementation = meta.find('end_implementation').text\n",
    "    date_inactive = meta.find('date_inactive').text\n",
    "    original_parties = [party.text for party in meta.findall('./parties_original/partyisocode')]\n",
    "    current_parties = [party.text for party in meta.findall('./parties/partyisocode')]\n",
    "    composition = meta.find('composition').text\n",
    "    region = meta.find('region').text\n",
    "    all_wto = meta.find('parties_wto').text\n",
    "    cross_regional = meta.find('crossregional').text\n",
    "    language = meta.find('language').text\n",
    "    text = ''.join([article.text for article in body.findall('.//chapter/article')])\n",
    "#     chapter_names = [chapter.attrib['name'] if 'name' in chapter.attrib else 'Untitled' for chapter in body.findall('chapter')]\n",
    "#     chapter_article_count =  [len(chapter.findall('article')) for chapter in body.findall('chapter')]\n",
    "#     chapter_id = [chapter.attrib['chapter_identifier'] for chapter in body.findall('chapter')]\n",
    "#     articles = [article.text for article in body.findall('.//chapter/article')]\n",
    "#     article_names = [article.attrib['name'] if 'name' in article.attrib else 'Untitled' for article in body.findall('.//chapter/article')]\n",
    "#     article_id = [article.attrib['article_identifier'] for article in body.findall('.//chapter/article')]\n",
    "    df.loc[idx] = [name, _type, _id, identifier, date_signed, date_into_force, date_notification, end_implementation, date_inactive, original_parties, current_parties, composition, region, all_wto, cross_regional, language, text]\n",
    "    \n",
    "# sort data frame chronologically\n",
    "df.sort_values(by='Date signed', inplace=True)\n"
   ]
  },
  {
   "cell_type": "code",
   "execution_count": 445,
   "metadata": {
    "scrolled": true
   },
   "outputs": [],
   "source": [
    "# only look at English, bilateral trade agreements\n",
    "df_new = df.loc[(df[\"Language\"] == \"en\") & (df[\"Composition\"] == \"Bilateral\")]"
   ]
  },
  {
   "cell_type": "code",
   "execution_count": 446,
   "metadata": {
    "scrolled": false
   },
   "outputs": [],
   "source": [
    "# set the index to the identifier as on GitHub\n",
    "df_new = df_new.set_index(\"Identifier\")\n",
    "df_new.index = df_new.index.astype('int')"
   ]
  },
  {
   "cell_type": "code",
   "execution_count": 447,
   "metadata": {},
   "outputs": [],
   "source": [
    "# delete columns with missing data\n",
    "df_new = df_new.dropna(axis=1)"
   ]
  },
  {
   "cell_type": "code",
   "execution_count": 387,
   "metadata": {
    "scrolled": false
   },
   "outputs": [],
   "source": [
    "# search for anomalies\n",
    "with pd.option_context('display.max_rows', None, 'display.max_columns', None):  # more options can be specified also\n",
    "    print(df_new)"
   ]
  },
  {
   "cell_type": "code",
   "execution_count": 448,
   "metadata": {
    "scrolled": true
   },
   "outputs": [],
   "source": [
    "# drop these agreements because they include the former country of Serbia and Montenegro which was split\n",
    "df_new = df_new.drop([286, 295])"
   ]
  },
  {
   "cell_type": "code",
   "execution_count": 455,
   "metadata": {
    "scrolled": true
   },
   "outputs": [],
   "source": [
    "# set new columns for party 1 and party 2\n",
    "df_new[\"Party 1\"] = df_new[\"Original parties\"].str[0]\n",
    "df_new[\"Party 2\"] = df_new[\"Original parties\"].str[1]"
   ]
  },
  {
   "cell_type": "code",
   "execution_count": 456,
   "metadata": {},
   "outputs": [],
   "source": [
    "df_new = df_new.drop(\"Original parties\", axis=1)"
   ]
  },
  {
   "cell_type": "code",
   "execution_count": 458,
   "metadata": {},
   "outputs": [],
   "source": [
    "df_new.to_csv(\"fta_clean.csv\")"
   ]
  }
 ],
 "metadata": {
  "kernelspec": {
   "display_name": "Python 3",
   "language": "python",
   "name": "python3"
  },
  "language_info": {
   "codemirror_mode": {
    "name": "ipython",
    "version": 3
   },
   "file_extension": ".py",
   "mimetype": "text/x-python",
   "name": "python",
   "nbconvert_exporter": "python",
   "pygments_lexer": "ipython3",
   "version": "3.8.5"
  }
 },
 "nbformat": 4,
 "nbformat_minor": 4
}
