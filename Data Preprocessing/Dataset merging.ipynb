{
 "cells": [
  {
   "cell_type": "code",
   "execution_count": 1,
   "metadata": {},
   "outputs": [],
   "source": [
    "import pandas as pd\n",
    "\n",
    "text = pd.read_csv('fta_clean.csv')\n",
    "data = pd.read_csv('trade_clean.csv')\n",
    "text = text.drop(138)\n",
    "text = text.set_index('Identifier')\n",
    "text = text.drop(['Text', 'Articles'], axis=1)"
   ]
  },
  {
   "cell_type": "code",
   "execution_count": 2,
   "metadata": {},
   "outputs": [],
   "source": [
    "# Set consistent column labels and drop irrelevant features\n",
    "\n",
    "data = data.rename(columns={'year': 'Year', 'iso3_o': 'Party 1', 'iso3_d': 'Party 2'})\n",
    "data = data.drop(['iso3num_o',\n",
    "       'iso3num_d', 'country_exists_o', 'country_exists_d',\n",
    "       'gmt_offset_2020_o', 'gmt_offset_2020_d', 'contig', 'dist', 'distw',\n",
    "       'distcap', 'distwces', 'dist_source', 'comlang_off', 'comlang_ethno',\n",
    "       'comcol', 'comrelig', 'col45', 'legal_old_o', 'legal_old_d',\n",
    "       'legal_new_o', 'legal_new_d', 'comleg_pretrans', 'comleg_posttrans',\n",
    "       'transition_legalchange', 'heg_o', 'heg_d', 'col_dep_ever', 'col_dep',\n",
    "       'col_dep_end_year', 'col_dep_end_conflict', 'empire', 'sibling_ever',\n",
    "       'sibling', 'sever_year', 'sib_conflict', 'pop_o', 'pop_d', 'gdp_o',\n",
    "       'gdp_d', 'gdpcap_o', 'gdpcap_d', 'pop_source_o', 'pop_source_d',\n",
    "       'gdp_source_o', 'gdp_source_d',\n",
    "       'gdpcap_ppp_o', 'gdpcap_ppp_d', 'pop_pwt_o', 'pop_pwt_d',\n",
    "       'gdp_ppp_pwt_o', 'gdp_ppp_pwt_d', 'gatt_o', 'gatt_d', 'wto_o', 'wto_d',\n",
    "       'eu_o', 'eu_d', 'rta_coverage', 'rta_type', 'entry_cost_o',\n",
    "       'entry_cost_d', 'entry_proc_o', 'entry_proc_d', 'entry_time_o',\n",
    "       'entry_time_d', 'entry_tp_o', 'entry_tp_d', 'tradeflow_comtrade_o',\n",
    "       'tradeflow_comtrade_d',\n",
    "       'tradeflow_imf_o', 'tradeflow_imf_d'], axis=1)"
   ]
  },
  {
   "cell_type": "code",
   "execution_count": 3,
   "metadata": {},
   "outputs": [],
   "source": [
    "# Calculate years trade agreement was in effect\n",
    "\n",
    "text['Date inactive'] = text['Date inactive'].fillna('2021-01-01')\n",
    "text['Date into force'] = pd.to_datetime(text['Date into force']).dt.year\n",
    "text['Date inactive'] = pd.to_datetime(text['Date inactive']).dt.year"
   ]
  },
  {
   "cell_type": "code",
   "execution_count": 4,
   "metadata": {},
   "outputs": [],
   "source": [
    "# Drop irrelevant features in trade agreements\n",
    "\n",
    "text = text.drop(['Date signed', 'Date of notification', 'End of implementation', 'Composition'], axis=1)"
   ]
  },
  {
   "cell_type": "code",
   "execution_count": 5,
   "metadata": {},
   "outputs": [],
   "source": [
    "# Import supervised and unsupervised results\n",
    "\n",
    "supervised = pd.read_csv('../Data Labelling/machine_labelled.csv', index_col='Identifier')\n",
    "unsupervised = pd.read_csv('unsupervised.csv', index_col='Identifier')\n",
    "supervised = supervised.drop(171)\n",
    "supervised = supervised.drop('Articles', axis=1)\n",
    "unsupervised = unsupervised.drop(171)"
   ]
  },
  {
   "cell_type": "code",
   "execution_count": 6,
   "metadata": {},
   "outputs": [],
   "source": [
    "# Merge all features generated and \n",
    "\n",
    "features = pd.concat([text,supervised,unsupervised], axis=1)\n",
    "features['Year'] = features.apply(lambda x: [i for i in range(x['Date into force'], x['Date inactive'])], axis=1)\n",
    "features = features.explode('Year')"
   ]
  },
  {
   "cell_type": "code",
   "execution_count": 7,
   "metadata": {},
   "outputs": [],
   "source": [
    "merged = features.merge(data, on=['Year', 'Party 1', 'Party 2'])\n",
    "merged['Pair'] = merged.apply(lambda x: (x['Party 1'], x['Party 2']), axis=1)\n",
    "merged['Relative GDP'] = abs(merged['gdp_ppp_o']-merged['gdp_ppp_d'])/(merged['gdp_ppp_o']+merged['gdp_ppp_d'])\n",
    "merged = merged.drop(['Date into force', 'Date inactive', 'Party 1', 'Party 2', 'gdp_ppp_o', 'gdp_ppp_d'], axis=1)"
   ]
  },
  {
   "cell_type": "code",
   "execution_count": 8,
   "metadata": {},
   "outputs": [],
   "source": [
    "merged.to_csv('merged.csv', index=False)"
   ]
  }
 ],
 "metadata": {
  "kernelspec": {
   "display_name": "Python 3 (ipykernel)",
   "language": "python",
   "name": "python3"
  },
  "language_info": {
   "codemirror_mode": {
    "name": "ipython",
    "version": 3
   },
   "file_extension": ".py",
   "mimetype": "text/x-python",
   "name": "python",
   "nbconvert_exporter": "python",
   "pygments_lexer": "ipython3",
   "version": "3.9.7"
  }
 },
 "nbformat": 4,
 "nbformat_minor": 4
}
