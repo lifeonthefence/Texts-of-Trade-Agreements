{
 "cells": [
  {
   "cell_type": "code",
   "execution_count": 72,
   "metadata": {},
   "outputs": [],
   "source": [
    "import pandas as pd\n",
    "\n",
    "text = pd.read_csv('fta_clean.csv')\n",
    "data = pd.read_csv('trade_clean.csv')\n",
    "text = text.drop(138)\n",
    "text = text.set_index('Identifier')"
   ]
  },
  {
   "cell_type": "code",
   "execution_count": 73,
   "metadata": {},
   "outputs": [],
   "source": [
    "supervised = pd.read_csv('../Data Labelling/machine_labelled.csv', index_col='Identifier')\n",
    "unsupervised = pd.read_csv('unsupervised.csv', index_col='Identifier')\n",
    "supervised = supervised.drop(171)\n",
    "unsupervised = unsupervised.drop(171)"
   ]
  },
  {
   "cell_type": "code",
   "execution_count": 74,
   "metadata": {},
   "outputs": [],
   "source": [
    "text['Date signed'] = pd.to_datetime(text['Date signed'])"
   ]
  },
  {
   "cell_type": "code",
   "execution_count": 75,
   "metadata": {},
   "outputs": [],
   "source": [
    "text['Date signed'] = text['Date signed'].dt.year"
   ]
  },
  {
   "cell_type": "code",
   "execution_count": 76,
   "metadata": {
    "scrolled": true
   },
   "outputs": [],
   "source": [
    "columns = ['year', 'iso3num_o', 'iso3num_d', 'contig', 'dist', 'comlang_off',\n",
    "       'comlang_ethno', 'comcol', 'comrelig', 'comleg_pretrans',\n",
    "       'comleg_posttrans', 'col_dep_ever', 'empire', 'sibling_ever',\n",
    "       'gdp_ppp_d', 'gdpcap_ppp_o', 'entry_cost_o', 'entry_cost_d',\n",
    "       'entry_tp_o', 'entry_tp_d', 'tradeflow_baci', 'manuf_tradeflow_baci']\n",
    "\n",
    "def get_dat(row):\n",
    "    return data[(data['year'] == row['Date signed']) & (data['iso3_o'] == row['Party 1']) & (data['iso3_d'] == row['Party 2'])].iloc[0][columns]\n",
    "\n",
    "merged = pd.concat([text,supervised,unsupervised,text.apply(get_dat, axis=1)], axis=1)\n"
   ]
  },
  {
   "cell_type": "code",
   "execution_count": 167,
   "metadata": {},
   "outputs": [],
   "source": [
    "merged = merged.drop(['Text', 'Articles'], axis=1)\n",
    "merged.to_csv('merged.csv')"
   ]
  },
  {
   "cell_type": "code",
   "execution_count": 168,
   "metadata": {},
   "outputs": [
    {
     "data": {
      "text/plain": [
       "Index(['Name', 'Type', 'WTO ID', 'Date signed', 'Date into force',\n",
       "       'Composition', 'Region', 'All WTO', 'Cross Regional', 'Language',\n",
       "       'Party 1', 'Party 2', 'Total articles', 'Total words',\n",
       "       'Number of unique words', 'Niceness', 'Class 0', 'Class 1', 'Class 2',\n",
       "       'year', 'iso3num_o', 'iso3num_d', 'contig', 'dist', 'comlang_off',\n",
       "       'comlang_ethno', 'comcol', 'comrelig', 'comleg_pretrans',\n",
       "       'comleg_posttrans', 'col_dep_ever', 'empire', 'sibling_ever',\n",
       "       'gdp_ppp_d', 'gdpcap_ppp_o', 'entry_cost_o', 'entry_cost_d',\n",
       "       'entry_tp_o', 'entry_tp_d', 'tradeflow_baci', 'manuf_tradeflow_baci'],\n",
       "      dtype='object')"
      ]
     },
     "execution_count": 168,
     "metadata": {},
     "output_type": "execute_result"
    }
   ],
   "source": [
    "merged.columns"
   ]
  },
  {
   "cell_type": "code",
   "execution_count": 169,
   "metadata": {},
   "outputs": [],
   "source": [
    "# def flatten(x):\n",
    "#     cols = [f'tradeflow_baci_{year}' for year in x['year']]\n",
    "#     tradeflows = x.reset_index().drop('index', axis=1)[['tradeflow_baci']].transpose().reset_index().drop('index', axis=1)\n",
    "#     tradeflows.columns = cols\n",
    "    \n",
    "#     manuf_cols = [f'manuf_tradeflow_baci_{year}' for year in x['year']]\n",
    "#     manuf_tradeflows = x.reset_index().drop('index', axis=1)[['manuf_tradeflow_baci']].transpose().reset_index().drop('index', axis=1)\n",
    "#     manuf_tradeflows.columns = manuf_cols\n",
    "    \n",
    "#     combined = pd.concat([tradeflows, manuf_tradeflows], axis=1)\n",
    "#     return combined\n",
    "\n",
    "# data[['year', 'iso3_o', 'iso3_d', 'tradeflow_baci', 'manuf_tradeflow_baci']].groupby(['iso3_o', 'iso3_d']).apply(flatten)\n"
   ]
  },
  {
   "cell_type": "code",
   "execution_count": null,
   "metadata": {},
   "outputs": [],
   "source": [
    "\n"
   ]
  }
 ],
 "metadata": {
  "kernelspec": {
   "display_name": "Python 3",
   "language": "python",
   "name": "python3"
  },
  "language_info": {
   "codemirror_mode": {
    "name": "ipython",
    "version": 3
   },
   "file_extension": ".py",
   "mimetype": "text/x-python",
   "name": "python",
   "nbconvert_exporter": "python",
   "pygments_lexer": "ipython3",
   "version": "3.8.5"
  }
 },
 "nbformat": 4,
 "nbformat_minor": 4
}
