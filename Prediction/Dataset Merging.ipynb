{
 "cells": [
  {
   "cell_type": "code",
   "execution_count": 1,
   "metadata": {},
   "outputs": [],
   "source": [
    "import pandas as pd"
   ]
  },
  {
   "cell_type": "code",
   "execution_count": 2,
   "metadata": {},
   "outputs": [],
   "source": [
    "#import datasets\n",
    "text = pd.read_csv(\"../Data Preprocessing/fta_clean.csv\")\n",
    "data = pd.read_csv('../Data Preprocessing/trade_clean.csv')\n",
    "text = text.drop(138)\n",
    "text = text.set_index('Identifier')"
   ]
  },
  {
   "cell_type": "code",
   "execution_count": 3,
   "metadata": {},
   "outputs": [],
   "source": [
    "supervised = pd.read_csv('../Data Labelling/machine_labelled.csv', index_col='Identifier')\n",
    "supervised = supervised.drop(171)"
   ]
  },
  {
   "cell_type": "code",
   "execution_count": 4,
   "metadata": {},
   "outputs": [],
   "source": [
    "#convert column to datetime\n",
    "text['Date signed'] = pd.to_datetime(text['Date signed'])"
   ]
  },
  {
   "cell_type": "code",
   "execution_count": 5,
   "metadata": {},
   "outputs": [],
   "source": [
    "text['Date signed'] = text['Date signed'].dt.year"
   ]
  },
  {
   "cell_type": "code",
   "execution_count": 6,
   "metadata": {},
   "outputs": [],
   "source": [
    "columns = ['iso3num_o', 'iso3num_d', 'contig', 'dist', 'comlang_off',\n",
    "       'comlang_ethno', 'comcol', 'comrelig', 'comleg_pretrans',\n",
    "       'comleg_posttrans', 'col_dep_ever', 'sibling_ever', 'gdp_o', 'gdp_d',\n",
    "        'gdpcap_o','gdp_ppp_d', 'gdpcap_ppp_o', 'entry_cost_o', 'entry_cost_d',\n",
    "       'entry_tp_o', 'entry_tp_d', 'tradeflow_imf_o', 'tradeflow_imf_d']\n",
    "\n",
    "#merge the gravity dataset with the texts dataset on the rows of the texts dataset\n",
    "def get_dat(row):\n",
    "    return data[(data['year'] == row['Date signed']) & (data['iso3_o'] == row['Party 1']) & (data['iso3_d'] == row['Party 2'])].iloc[0][columns]\n",
    "\n",
    "merged = pd.concat([text,supervised,text.apply(get_dat, axis=1)], axis=1)\n"
   ]
  },
  {
   "cell_type": "code",
   "execution_count": 7,
   "metadata": {},
   "outputs": [],
   "source": [
    "merged = merged.drop(['Text', 'Articles'], axis=1)"
   ]
  },
  {
   "cell_type": "code",
   "execution_count": 8,
   "metadata": {
    "scrolled": true
   },
   "outputs": [],
   "source": [
    "#set columns to the data of the following year\n",
    "cols = ['tradeflow_imf_o', 'tradeflow_imf_d', 'gdp_o', 'gdp_d']\n",
    "data = data.set_index(\"year\")"
   ]
  },
  {
   "cell_type": "code",
   "execution_count": 9,
   "metadata": {},
   "outputs": [],
   "source": [
    "def get_dat_next(row):\n",
    "    return data.shift(periods = -1)[(data.index == row['Date signed']) & (data['iso3_o'] == row['Party 1']) & (data['iso3_d'] == row['Party 2'])].iloc[0][cols]\n",
    "\n",
    "merged[[\"tradeflow_imf_o_next\", \"tradeflow_imf_d_next\", \"gdp_o_next\", \"gdp_d_next\"]] = text.apply(get_dat_next, axis = 1)"
   ]
  },
  {
   "cell_type": "code",
   "execution_count": 10,
   "metadata": {},
   "outputs": [],
   "source": [
    "#get identifiers from another dataset\n",
    "df = pd.read_csv(\"../Data Preprocessing/merged.csv\")\n",
    "df = df.set_index(\"Identifier\")"
   ]
  },
  {
   "cell_type": "code",
   "execution_count": 11,
   "metadata": {},
   "outputs": [],
   "source": [
    "cols = [\"Class 0\", \"Class 1\", \"Class 2\"]\n",
    "merged = pd.concat([merged, df[cols]], axis = 1)"
   ]
  },
  {
   "cell_type": "code",
   "execution_count": 12,
   "metadata": {},
   "outputs": [],
   "source": [
    "#remove rows without tradeflow data from either country\n",
    "merged = merged[~(merged[\"tradeflow_imf_o\"].isna() & merged[\"tradeflow_imf_d\"].isna())]"
   ]
  },
  {
   "cell_type": "code",
   "execution_count": 13,
   "metadata": {},
   "outputs": [],
   "source": [
    "import numpy as np"
   ]
  },
  {
   "cell_type": "code",
   "execution_count": 18,
   "metadata": {},
   "outputs": [],
   "source": [
    "#calculate change variables\n",
    "def change(row):\n",
    "    c = np.where(np.isnan(row[\"tradeflow_imf_o\"]), row[\"tradeflow_imf_d\"] , row[\"tradeflow_imf_o\"])\n",
    "    n = np.where(np.isnan(row[\"tradeflow_imf_o_next\"]), row[\"tradeflow_imf_d_next\"] , row[\"tradeflow_imf_o_next\"])\n",
    "    return 100 * (n - c)/c\n",
    "    \n",
    "merged[\"tradeflow_change\"] = merged.apply(change, axis = 1)"
   ]
  },
  {
   "cell_type": "code",
   "execution_count": 19,
   "metadata": {},
   "outputs": [],
   "source": [
    "merged[\"gdp_change_o\"] = 100 * (merged[\"gdp_o_next\"] - merged[\"gdp_o\"])/merged[\"gdp_o\"]\n",
    "merged[\"gdp_change_d\"] = 100 * (merged[\"gdp_d_next\"] - merged[\"gdp_d\"])/merged[\"gdp_d\"]"
   ]
  },
  {
   "cell_type": "code",
   "execution_count": 20,
   "metadata": {},
   "outputs": [
    {
     "data": {
      "text/plain": [
       "Identifier\n",
       "1      15.169746\n",
       "2       7.887407\n",
       "3     -15.646390\n",
       "7       7.343778\n",
       "9      16.549247\n",
       "         ...    \n",
       "435     6.039525\n",
       "436    16.600019\n",
       "439     5.269667\n",
       "442    -4.683943\n",
       "445   -38.452158\n",
       "Name: tradeflow_change, Length: 220, dtype: float64"
      ]
     },
     "execution_count": 20,
     "metadata": {},
     "output_type": "execute_result"
    }
   ],
   "source": [
    "merged[\"tradeflow_change\"]"
   ]
  },
  {
   "cell_type": "code",
   "execution_count": 21,
   "metadata": {},
   "outputs": [],
   "source": [
    "merged.to_csv(\"predict_tradeflow.csv\")"
   ]
  }
 ],
 "metadata": {
  "kernelspec": {
   "display_name": "Python 3 (ipykernel)",
   "language": "python",
   "name": "python3"
  },
  "language_info": {
   "codemirror_mode": {
    "name": "ipython",
    "version": 3
   },
   "file_extension": ".py",
   "mimetype": "text/x-python",
   "name": "python",
   "nbconvert_exporter": "python",
   "pygments_lexer": "ipython3",
   "version": "3.9.7"
  }
 },
 "nbformat": 4,
 "nbformat_minor": 4
}
